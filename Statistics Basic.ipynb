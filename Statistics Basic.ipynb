{
 "cells": [
  {
   "cell_type": "markdown",
   "id": "1f9c126e",
   "metadata": {},
   "source": [
    "Python Questions\n",
    "-"
   ]
  },
  {
   "cell_type": "markdown",
   "id": "f61dbc67",
   "metadata": {},
   "source": [
    "1] What is the difference between descriptive statistics and inferential  \n",
    "statistics? Explain with examples  \n",
    "Ans] Descriptive Statistics  \n",
    "Definition: Descriptive statistics summarize, organize, and present data in a meaningful way. They describe the main features of a dataset without making predictions or   generalizations.  \n",
    "Techniques include:  \n",
    "•\tMeasures of central tendency → mean, median, mode  \n",
    "•\tMeasures of dispersion → range, variance, standard deviation  \n",
    "•\tGraphical summaries → histograms, bar charts, pie charts  \n",
    "Example:  \n",
    "A company collects the salaries of 100 employees.  \n",
    "•\tThe average salary (mean) is ₹50,000.  \n",
    "•\tThe highest salary is ₹1,20,000, and the lowest is ₹20,000.  \n",
    "•\t60% of employees earn between ₹40,000 and ₹60,000.  \n",
    " These numbers describe the dataset but do not generalize beyond these 100 employees.  \n",
    "\n",
    "Inferential Statistics  \n",
    "•\tDefinition: Inferential statistics use data from a sample to make predictions, inferences, or decisions about a larger population.  \n",
    "•\tPurpose: To draw conclusions and test hypotheses.  \n",
    "•\tTechniques include:  \n",
    "o\tHypothesis testing (t-test, chi-square test, ANOVA)  \n",
    "o\tConfidence intervals  \n",
    "o\tRegression analysis  \n",
    "o\tProbability distributions  \n",
    "Example:  \n",
    "Suppose you survey 200 voters in a city of 1 million people. Out of them, 120 (60%) say they will vote for Candidate A.  \n",
    "•\tUsing inferential statistics, you estimate that around 60% of the entire city’s population will vote for Candidate A.  \n",
    "•\tYou might also calculate a 95% confidence interval (e.g., 56%–64%), showing the range where the true population proportion is likely to lie.  \n",
    "Here, you’re inferring about the whole population based on a sample.  \n"
   ]
  },
  {
   "cell_type": "markdown",
   "id": "bac6a860",
   "metadata": {},
   "source": [
    "2] What is sampling in statistics? Explain the differences between random and stratified sampling?  \n",
    "Ans 2] Sampling is the process of selecting a subset (sample) from a larger group (population) to study and draw conclusions about the whole population.  \n",
    "Studying the entire population is often costly, time-consuming, or impractical.  \n",
    "A good sample provides a representative picture of the population.  \n",
    "Example:  \n",
    "Instead of surveying all 10 lakh people in a city about their favorite smartphone brand, a researcher may survey 1,000 people. If the sample is chosen properly, the results can  represent the whole city  \n",
    "Random Sampling  \n",
    "•\tDefinition: Every member of the population has an equal chance of being selected.  \n",
    "•\tMethod: Selection is done randomly (like lottery, random number generator).  \n",
    "•\tAdvantages:  \n",
    "o\tSimple to use.  \n",
    "o\tAvoids bias since all individuals are equally likely to be chosen.  \n",
    "•\tLimitations:  \n",
    "o\tMay not represent all subgroups well, especially in diverse populations.  \n",
    "Example:  \n",
    "From a class of 100 students, you randomly pick 10 students using a lottery method. Each student has the same chance of selection  \n",
    "\n",
    "Stratified Sampling  \n",
    "•\tDefinition: The population is divided into subgroups (strata) based on some characteristic (e.g., age, gender, income level), and then samples are taken proportionally from each stratum.  \n",
    "•\tMethod:  \n",
    "1.\tDivide population into strata.  \n",
    "2.\tRandomly sample from each stratum.  \n",
    "•\tAdvantages:  \n",
    "o\tEnsures representation of all important subgroups.  \n",
    "o\tGives more accurate results, especially when subgroups differ greatly.  \n",
    "•\tLimitations:  \n",
    "o\tMore complex and time-consuming than simple random sampling.  \n",
    "Example:  \n",
    "In a university of 5,000 students:  \n",
    "•\t60% are undergraduates, 30% postgraduates, 10% PhD scholars.  \n",
    "•\tTo survey 500 students, you select:  \n",
    "o\t300 undergraduates, 150 postgraduates, 50 PhD students.  \n",
    "•\tThis way, every group is fairly represented.  \n",
    "Difference between Random Sampling and stratified Sampling  \n",
    "Stratified Sampling  \n",
    "1.\tPopulation is divided into subgroups (strata) based on certain characteristics (e.g., gender, age, income).  \n",
    "2.\tSamples are taken randomly but proportionally from each stratum.  \n",
    "3.\tEnsures all important subgroups are represented.  \n",
    "4.\tMore complex and time-consuming than random sampling.  \n",
    "5.\tBest used when the population is heterogeneous (contains different groups).  \n",
    "\n",
    "Random Sampling  \n",
    "1.\tEvery individual in the population has an equal chance of being selected.  \n",
    "2.\tSelection is done completely at random (lottery method, random numbers, etc.).  \n",
    "3.\tIt may not represent all subgroups properly if the population is diverse.  \n",
    "4.\tEasy and quick to conduct.  \n",
    "5.\tBest used when the population is homogeneous (similar in nature).  \n"
   ]
  },
  {
   "cell_type": "markdown",
   "id": "cbc6177c",
   "metadata": {},
   "source": [
    "3] Define mean, median, and mode. Explain why these measures of central tendency are important?  \n",
    "Ans 3]   \n",
    "1. Mean (Arithmetic Average)  \n",
    "•\tDefinition: The mean is the sum of all observations divided by the total number of observations.  \n",
    "•\tFormula:  \n",
    "Mean=Sum of all valuesNumber of values\\text{Mean} = \\frac{\\text{Sum of all values}}{\\text{Number of values}}Mean=Number of valuesSum of all values   \n",
    "•\tExample: Marks of 5 students = {10, 20, 30, 40, 50}  \n",
    "Mean=10+20+30+40+50/5 = 150/5 = 30  \n",
    "2. Mode  \n",
    "•\tDefinition: The mode is the value that occurs most frequently in the dataset.  \n",
    "•\tA dataset can be:  \n",
    "o\tUnimodal (one mode),  \n",
    "o\tBimodal (two modes), or  \n",
    "o\tMultimodal (more than two modes).  \n",
    "•\tExample: Data = {2, 4, 4, 6, 7, 7, 7, 8} → Mode = 7 (appears most often).  \n",
    "\n",
    "3. Median  \n",
    "•\tDefinition: The median is the middle value of an ordered dataset (arranged in ascending or descending order).  \n",
    "•\tIf the number of observations is odd, the median is the middle value.  \n",
    "•\tIf it is even, the median is the average of the two middle values.  \n",
    "•\tExample: Data = {15, 25, 35, 45, 55} → Median = 35 (middle value).  \n",
    "Data = {10, 20, 30, 40} → Median = (20+30)/2 = 25.  \n",
    "Importance:-  \n",
    "Summarize Data → They reduce a large dataset into a single representative value.  \n",
    "Comparison → Help compare different groups or datasets.  \n",
    "Decision Making → Used in business, economics, and research to understand central behavior (e.g., average income, median house price).  \n",
    "Different Perspectives →  \n",
    "•\tMean → Considers all values, useful for overall average.  \n",
    "•\tMedian → Not affected by extreme values (outliers), better for skewed data.  \n",
    "•\tMode → Useful for categorical data (e.g., most common shoe size).  \n"
   ]
  },
  {
   "cell_type": "markdown",
   "id": "4dd053c1",
   "metadata": {},
   "source": [
    "4] Explain skewness and kurtosis. What does a positive skew imply about the data?  \n",
    "Ans 4]   \n",
    "1. Skewness  \n",
    "•\tSkewness measures the asymmetry of a data distribution.  \n",
    "•\tTypes:  \n",
    "o\tSymmetric (Skewness = 0) → Mean = Median = Mode (e.g., normal distribution).  \n",
    "o\tPositive Skew (Right-skewed) → Tail on the right side is longer; Mean > Median > Mode.  \n",
    "o\tNegative Skew (Left-skewed) → Tail on the left side is longer; Mean < Median < Mode.  \n",
    "Example:  \n",
    "•\tIncome distribution is usually positively skewed → most people earn moderate salaries, but a few earn extremely high incomes, pulling the mean to the right.  \n",
    "2. Kurtosis  \n",
    "•\tKurtosis measures the “tailedness” or peakedness of a data distribution compared to a normal distribution.  \n",
    "•\tTypes:  \n",
    "o\tMesokurtic (Kurtosis ≈ 3) → Normal distribution.  \n",
    "o\tLeptokurtic (Kurtosis > 3) → More peaked, fatter tails (higher chance of outliers).  \n",
    "o\tPlatykurtic (Kurtosis < 3) → Flatter distribution, thinner tails (fewer extreme values).  \n",
    "Example:  \n",
    "•\tStock returns often show leptokurtic distributions → many values close to the mean but with fat tails (extreme gains/losses).  \n",
    "3. Positive Skew  \n",
    "•\tThe right tail is longer (more extreme high values).  \n",
    "•\tMost data values are concentrated on the left (lower side).  \n",
    "•\tThe mean is greater than the median.  \n",
    "•\tIndicates occasional very high values (outliers).  \n",
    "Example:  \n",
    "House prices → Most homes are moderately priced, but a few luxury homes are extremely costly, causing a positive skew.  \n"
   ]
  },
  {
   "cell_type": "markdown",
   "id": "0f107e4c",
   "metadata": {},
   "source": [
    "5] Implement a Python program to compute the mean, median, and mode of\n",
    "a given list of numbers.\n",
    "numbers = [12, 15, 12, 18, 19, 12, 20, 22, 19, 19, 24, 24, 24, 26, 28]\n",
    "(Include your Python code and output in the code box below.)\n"
   ]
  },
  {
   "cell_type": "code",
   "execution_count": 1,
   "id": "1d0cec17",
   "metadata": {},
   "outputs": [
    {
     "name": "stdout",
     "output_type": "stream",
     "text": [
      "Mean: 19.6\n",
      "Median: 19\n",
      "Mode: 12\n"
     ]
    }
   ],
   "source": [
    "import statistics as stats\n",
    "\n",
    "numbers = [12, 15, 12, 18, 19, 12, 20, 22, 19, 19, 24, 24, 24, 26, 28]\n",
    "\n",
    "mean_value = stats.mean(numbers)\n",
    "\n",
    "median_value = stats.median(numbers)\n",
    "\n",
    "mode_value = stats.mode(numbers)\n",
    "\n",
    "print(\"Mean:\", mean_value)\n",
    "print(\"Median:\", median_value)\n",
    "print(\"Mode:\", mode_value)"
   ]
  },
  {
   "cell_type": "markdown",
   "id": "808941cf",
   "metadata": {},
   "source": [
    "6] Compute the covariance and correlation coefficient between the following\n",
    "two datasets provided as lists in Python:\n",
    "list_x = [10, 20, 30, 40, 50]\n",
    "list_y = [15, 25, 35, 45, 60]\n"
   ]
  },
  {
   "cell_type": "code",
   "execution_count": 2,
   "id": "ff822a73",
   "metadata": {},
   "outputs": [
    {
     "name": "stdout",
     "output_type": "stream",
     "text": [
      "Covariance: 275.0\n",
      "Correlation Coefficient: 0.995893206467704\n"
     ]
    }
   ],
   "source": [
    "import numpy as np\n",
    "\n",
    "list_x = [10, 20, 30, 40, 50]\n",
    "list_y = [15, 25, 35, 45, 60]\n",
    "\n",
    "x = np.array(list_x)\n",
    "y = np.array(list_y)\n",
    "\n",
    "cov_matrix = np.cov(x, y, bias=False)   \n",
    "cov_xy = cov_matrix[0, 1]\n",
    "\n",
    "corr_xy = np.corrcoef(x, y)[0, 1]\n",
    "\n",
    "print(\"Covariance:\", cov_xy)\n",
    "print(\"Correlation Coefficient:\", corr_xy)"
   ]
  },
  {
   "cell_type": "markdown",
   "id": "c9132c07",
   "metadata": {},
   "source": [
    "7] Write a Python script to draw a boxplot for the following numeric list and\n",
    "identify its outliers. Explain the result:\n",
    "data = [12, 14, 14, 15, 18, 19, 19, 21, 22, 22, 23, 23, 24, 26, 29, 35]"
   ]
  },
  {
   "cell_type": "code",
   "execution_count": null,
   "id": "3a3bbe4e",
   "metadata": {},
   "outputs": [
    {
     "data": {
      "image/png": "[encoded data removed]",
      "text/plain": [
       "<Figure size 640x480 with 1 Axes>"
      ]
     },
     "metadata": {},
     "output_type": "display_data"
    },
    {
     "name": "stdout",
     "output_type": "stream",
     "text": [
      "Q1: 17.25\n",
      "Q3: 23.25\n",
      "IQR: 6.0\n",
      "Lower Bound: 8.25\n",
      "Upper Bound: 32.25\n",
      "Outliers: [35]\n"
     ]
    }
   ],
   "source": [
    "import matplotlib.pyplot as plt\n",
    "import numpy as np\n",
    "\n",
    "data = [12, 14, 14, 15, 18, 19, 19, 21, 22, 22, 23, 23, 24, 26, 29, 35]\n",
    "\n",
    "plt.boxplot(data, vert=False, patch_artist=True)\n",
    "plt.title(\"Boxplot of Data\")\n",
    "plt.xlabel(\"Values\")\n",
    "plt.show()\n",
    "\n",
    "\n",
    "Q1 = np.percentile(data, 25)   \n",
    "Q3 = np.percentile(data, 75)   \n",
    "IQR = Q3 - Q1                  \n",
    "\n",
    "lower_bound = Q1 - 1.5 * IQR\n",
    "upper_bound = Q3 + 1.5 * IQR\n",
    "\n",
    "outliers = [x for x in data if x < lower_bound or x > upper_bound]\n",
    "\n",
    "print(\"Q1:\", Q1)\n",
    "print(\"Q3:\", Q3)\n",
    "print(\"IQR:\", IQR)\n",
    "print(\"Lower Bound:\", lower_bound)\n",
    "print(\"Upper Bound:\", upper_bound)\n",
    "print(\"Outliers:\", outliers)"
   ]
  },
  {
   "cell_type": "markdown",
   "id": "2d9711cc",
   "metadata": {},
   "source": [
    "Q 8] You are working as a data analyst in an e-commerce company. The\n",
    "marketing team wants to know if there is a relationship between advertising spend and\n",
    "daily sales.\n",
    "● Explain how you would use covariance and correlation to explore this\n",
    "relationship.\n",
    "● Write Python code to compute the correlation between the two lists:\n",
    "advertising_spend = [200, 250, 300, 400, 500]\n",
    "daily_sales = [2200, 2450, 2750, 3200, 4000]"
   ]
  },
  {
   "cell_type": "code",
   "execution_count": 6,
   "id": "a9ffef77",
   "metadata": {},
   "outputs": [
    {
     "name": "stdout",
     "output_type": "stream",
     "text": [
      "Covariance: 84875.0\n",
      "Correlation Coefficient: 0.9935824101653329\n"
     ]
    },
    {
     "data": {
      "image/png": "[encoded data removed]",
      "text/plain": [
       "<Figure size 640x480 with 1 Axes>"
      ]
     },
     "metadata": {},
     "output_type": "display_data"
    }
   ],
   "source": [
    "import numpy as np\n",
    "\n",
    "advertising_spend = [200, 250, 300, 400, 500]\n",
    "daily_sales = [2200, 2450, 2750, 3200, 4000]\n",
    "\n",
    "x = np.array(advertising_spend)\n",
    "y = np.array(daily_sales)\n",
    "\n",
    "cov_matrix = np.cov(x, y, bias=False)\n",
    "cov_xy = cov_matrix[0, 1]\n",
    "\n",
    "corr_xy = np.corrcoef(x, y)[0, 1]\n",
    "\n",
    "print(\"Covariance:\", cov_xy)\n",
    "print(\"Correlation Coefficient:\", corr_xy)\n",
    "\n",
    "plt.scatter(advertising_spend, daily_sales, color='blue', label=\"Data Points\")\n",
    "\n",
    "m, b = np.polyfit(advertising_spend, daily_sales, 1)\n",
    "plt.plot(advertising_spend, np.array(advertising_spend)*m + b, color='red', label=\"Trend Line\")\n",
    "\n",
    "plt.xlabel(\"Advertising Spend\")\n",
    "plt.ylabel(\"Daily Sales\")\n",
    "plt.title(\"Relationship between Advertising Spend and Daily Sales\")\n",
    "plt.legend()\n",
    "plt.show()"
   ]
  },
  {
   "cell_type": "markdown",
   "id": "936f0b84",
   "metadata": {},
   "source": [
    "Conclusion: There is a very strong positive correlation between advertising spend and daily sales.  \n",
    "This suggests that increasing advertising spend is strongly associated with higher sales.  \n",
    "Marketing can use this insight to justify ad budget allocation.  "
   ]
  },
  {
   "cell_type": "markdown",
   "id": "f7aa4283",
   "metadata": {},
   "source": [
    "Q 9] Your team has collected customer satisfaction survey data on a scale of\n",
    "1-10 and wants to understand its distribution before launching a new product.\n",
    "● Explain which summary statistics and visualizations (e.g. mean, standard\n",
    "deviation, histogram) you’d use.\n",
    "● Write Python code to create a histogram using Matplotlib for the survey data:\n",
    "survey_scores = [7, 8, 5, 9, 6, 7, 8, 9, 10, 4, 7, 6, 9, 8, 7]\n"
   ]
  },
  {
   "cell_type": "code",
   "execution_count": 8,
   "id": "f32280ec",
   "metadata": {},
   "outputs": [
    {
     "data": {
      "image/png": "[encoded data removed]",
      "text/plain": [
       "<Figure size 640x480 with 1 Axes>"
      ]
     },
     "metadata": {},
     "output_type": "display_data"
    }
   ],
   "source": [
    "import matplotlib.pyplot as plt\n",
    "\n",
    "survey_scores = [7, 8, 5, 9, 6, 7, 8, 9, 10, 4, 7, 6, 9, 8, 7]\n",
    "\n",
    "plt.hist(survey_scores, bins=6, edgecolor=\"black\", color=\"skyblue\")\n",
    "\n",
    "plt.xlabel(\"Satisfaction Score (1-10)\")\n",
    "plt.ylabel(\"Frequency\")\n",
    "plt.title(\"Distribution of Customer Satisfaction Scores\")\n",
    "\n",
    "# Show plot\n",
    "plt.show()"
   ]
  },
  {
   "cell_type": "markdown",
   "id": "a9433964",
   "metadata": {},
   "source": [
    "To understand the distribution of customer satisfaction survey scores (1–10 scale), we would use the following:  \n",
    "Summary Statistics  \n",
    "Mean (Average) → Overall satisfaction level.  \n",
    "Median → Middle score; robust against outliers.  \n",
    "Mode → Most common score; shows typical customer sentiment.  \n",
    "Standard Deviation (SD) → Measures consistency of responses (low SD = similar opinions, high SD = mixed opinions).  \n",
    "Range (Min & Max) → Spread of satisfaction levels.  \n",
    "Quartiles & IQR → Helps identify variability and possible outliers.  \n",
    "These statistics together summarize both the central tendency and the spread of satisfaction levels.  \n",
    "\n",
    "Visualizations  \n",
    "Histogram → To visualize frequency distribution of scores.  \n",
    "Boxplot → To see quartiles, median, and detect outliers.  \n",
    "Bar chart → To quickly spot the most common rating (mode).  "
   ]
  },
  {
   "cell_type": "markdown",
   "id": "5bc0625f",
   "metadata": {},
   "source": [
    "The histogram will show how often each score appears.  \n",
    "In this dataset, scores around 7–9 occur most frequently → indicating customers are generally satisfied.  \n",
    "Very low or very high scores are less frequent, so the distribution is slightly skewed toward higher satisfaction.  "
   ]
  }
 ],
 "metadata": {
  "kernelspec": {
   "display_name": "Python 3",
   "language": "python",
   "name": "python3"
  },
  "language_info": {
   "codemirror_mode": {
    "name": "ipython",
    "version": 3
   },
   "file_extension": ".py",
   "mimetype": "text/x-python",
   "name": "python",
   "nbconvert_exporter": "python",
   "pygments_lexer": "ipython3",
   "version": "3.10.0"
  }
 },
 "nbformat": 4,
 "nbformat_minor": 5
}
