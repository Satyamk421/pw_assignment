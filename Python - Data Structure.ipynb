{
 "cells": [
  {
   "cell_type": "markdown",
   "id": "b90118fe",
   "metadata": {},
   "source": [
    "Python Questions\n",
    "-"
   ]
  },
  {
   "cell_type": "markdown",
   "id": "00ad8421",
   "metadata": {},
   "source": [
    "1] What are data structures, and why are they important?  \n",
    "Ans] Data Structures are a way of organizing data so that it can be accessed more efficiently depending upon the situation. Data Structures are fundamentals of any programming language around which a program is built. They provide a way to manage and manipulate data efficiently, enabling programs to perform operations like searching, sorting, and accessing information effectively.  \n",
    "Type of Data Structures:-  \n",
    "Lists, Tuples, Set Dictionaries."
   ]
  },
  {
   "cell_type": "markdown",
   "id": "e59011c6",
   "metadata": {},
   "source": [
    "2] Explain the difference between mutable and immutable data types with examples?  \n",
    "Ans] Mutable Data Types:  \n",
    "These are data types whose values can be modified in-place after they have been initialized. When you modify a mutable object, you are changing the existing object in memory, rather than creating a new one.  \n",
    "Examples: Lists, dictionaries, and sets in Python.  \n",
    "\n",
    "Immutable Data Types:  \n",
    "These are data types whose values cannot be altered once they are created. Any operation that appears to modify an immutable object actually results in the creation of a new object with the desired changes, while the original object remains unchanged.   \n",
    "Examples: Integers, floats, strings, and tuples in Python.\n"
   ]
  },
  {
   "cell_type": "code",
   "execution_count": 1,
   "id": "5fe6b445",
   "metadata": {},
   "outputs": [
    {
     "name": "stdout",
     "output_type": "stream",
     "text": [
      "As list are mutable so we can change the elements [1, 2, 250, 4, 5, 6, 7]\n",
      "(1, 2, 3, 4, 5, 6, 7)\n",
      "As Tuples are Immutable so we cannot change the elements 'tuple' object does not support item assignment\n",
      "Hello World\n",
      "As String are Immutable so cannot be changed'str' object does not support item assignment\n",
      "Hello World\n"
     ]
    },
    {
     "ename": "TypeError",
     "evalue": "'str' object does not support item assignment",
     "output_type": "error",
     "traceback": [
      "\u001b[1;31m---------------------------------------------------------------------------\u001b[0m",
      "\u001b[1;31mTypeError\u001b[0m                                 Traceback (most recent call last)",
      "Cell \u001b[1;32mIn[1], line 27\u001b[0m\n\u001b[0;32m     21\u001b[0m     string[\u001b[38;5;241m0\u001b[39m] \u001b[38;5;241m=\u001b[39m \u001b[38;5;124m'\u001b[39m\u001b[38;5;124mM\u001b[39m\u001b[38;5;124m'\u001b[39m\n\u001b[0;32m     26\u001b[0m create_list \u001b[38;5;241m=\u001b[39m [\u001b[38;5;241m1\u001b[39m,\u001b[38;5;241m2\u001b[39m,\u001b[38;5;241m3\u001b[39m,\u001b[38;5;241m4\u001b[39m,\u001b[38;5;241m5\u001b[39m,\u001b[38;5;241m6\u001b[39m,\u001b[38;5;241m7\u001b[39m]\n\u001b[1;32m---> 27\u001b[0m \u001b[43mlist_checking\u001b[49m\u001b[43m(\u001b[49m\u001b[43mcreate_list\u001b[49m\u001b[43m)\u001b[49m\n",
      "Cell \u001b[1;32mIn[1], line 21\u001b[0m, in \u001b[0;36mlist_checking\u001b[1;34m(create_list)\u001b[0m\n\u001b[0;32m     19\u001b[0m string \u001b[38;5;241m=\u001b[39m \u001b[38;5;124m'\u001b[39m\u001b[38;5;124mHello World\u001b[39m\u001b[38;5;124m'\u001b[39m\n\u001b[0;32m     20\u001b[0m \u001b[38;5;28mprint\u001b[39m(string)\n\u001b[1;32m---> 21\u001b[0m \u001b[43mstring\u001b[49m\u001b[43m[\u001b[49m\u001b[38;5;241;43m0\u001b[39;49m\u001b[43m]\u001b[49m \u001b[38;5;241m=\u001b[39m \u001b[38;5;124m'\u001b[39m\u001b[38;5;124mM\u001b[39m\u001b[38;5;124m'\u001b[39m\n",
      "\u001b[1;31mTypeError\u001b[0m: 'str' object does not support item assignment"
     ]
    }
   ],
   "source": [
    "def list_checking(create_list):\n",
    "    create_list[2] =250\n",
    "    print(f'As list are mutable so we can change the elements {create_list}')\n",
    "\n",
    "    create_tuple = (1,2,3,4,5,6,7)\n",
    "    print(create_tuple)\n",
    "    try:\n",
    "        create_tuple[2] = 250\n",
    "    except TypeError as e:\n",
    "        print(f'As Tuples are Immutable so we cannot change the elements {e}')\n",
    "\n",
    "    string = 'Hello World'\n",
    "    print(string)\n",
    "    try:\n",
    "        string[0] = 'M'\n",
    "    except TypeError as e:\n",
    "        print(f'As String are Immutable so cannot be changed{e}')\n",
    "\n",
    "    string = 'Hello World'\n",
    "    print(string)\n",
    "    string[0] = 'M'\n",
    "\n",
    "\n",
    "\n",
    "\n",
    "create_list = [1,2,3,4,5,6,7]\n",
    "list_checking(create_list)"
   ]
  },
  {
   "cell_type": "markdown",
   "id": "a18818b3",
   "metadata": {},
   "source": [
    "3] What are the main differences between lists and tuples in Python?  \n",
    "Ans]List:-  \n",
    "- A list is mutable, which means its elements can be changed, added, or removed after the list is created.  \n",
    "- Iterating through a list is generally slower compared to a tuple because of its dynamic and flexible nature.  \n",
    "- Lists are well-suited for operations such as insertion, deletion, and appending elements during runtime.  \n",
    "- Lists consume more memory than tuples because they allow for dynamic resizing and storage flexibility.  \n",
    "- Lists offer a wide range of built-in methods like append(), remove(), sort(), and extend() to perform various operations.  \n",
    "- Lists are more prone to unexpected changes or errors, especially when they are modified in complex programs or shared across functions.  \n",
    "\n",
    "Tuples:-  \n",
    "- A tuple is immutable, which means its elements cannot be changed, added, or deleted once the tuple is created.  \n",
    "- Iterating through a tuple is faster than a list because it has a fixed size and uses less overhead.  \n",
    "- Tuples are better suited for accessing elements quickly and are ideal for data that should remain constant.  \n",
    "- Tuples consume less memory compared to lists, making them more efficient when handling large amounts of fixed data.  \n",
    "- Tuples provide fewer built-in methods because they are not designed for modification after creation.  \n",
    "- Tuples are less error-prone, making them safer to use for storing constant or read-only data in a program."
   ]
  },
  {
   "cell_type": "markdown",
   "id": "1208e382",
   "metadata": {},
   "source": [
    "4] Describe how dictionaries store data.  \n",
    "Ans] Dictionaries are used to store data values in key:value pairs.  \n",
    "Data in a dictionary is organized into pairs, where each unique key is associated with a specific value. Keys must be immutable (e.g., strings, numbers, tuples), while values can be of any data type and can be duplicated.  \n",
    "Dictionaries are written with curly brackets, and have keys and values:  \n",
    "thisdict = {\n",
    "  \"brand\": \"Ford\",\n",
    "  \"model\": \"Mustang\",\n",
    "  \"year\": 1964\n",
    "}  \n"
   ]
  },
  {
   "cell_type": "markdown",
   "id": "ef69cd50",
   "metadata": {},
   "source": [
    "5] Why might you use a set instead of a list in Python?  \n",
    "Ans] Below are the points why we use Set instead of List.  \n",
    "A set automatically removes duplicates. If you have data where repetition is not allowed or not needed, a set is ideal.  \n",
    "Sets are much faster than lists when checking if an item exists, especially for large datasets, because they use a hash table internally.  \n",
    "Sets support mathematical set operations like union, intersection, difference, and symmetric difference, which are not available directly with lists.  \n",
    "When uniqueness, fast lookups, or set theory logic is part of your problem, sets make your code simpler and more readable.  "
   ]
  },
  {
   "cell_type": "code",
   "execution_count": 3,
   "id": "62d87744",
   "metadata": {},
   "outputs": [
    {
     "name": "stdout",
     "output_type": "stream",
     "text": [
      "{1, 2, 3, 4}\n",
      "{3}\n",
      "{1, 2, 3, 4, 5}\n"
     ]
    }
   ],
   "source": [
    "numbers = [1, 2, 2, 3, 4, 4]\n",
    "unique_numbers = set(numbers)  \n",
    "print(unique_numbers)\n",
    "a = {1, 2, 3}\n",
    "b = {3, 4, 5}\n",
    "print(a & b) \n",
    "print(a | b)  "
   ]
  },
  {
   "cell_type": "markdown",
   "id": "006015c3",
   "metadata": {},
   "source": [
    "6] What is a string in Python, and how is it different from a list?  \n",
    "Ans] In Python, a string is an immutable sequence of characters, used to represent text. Strings are defined by enclosing characters within single quotes ('...'), double quotes (\"...\"), or triple quotes ('''...''' or \"\"\"...\"\"\") for multiline strings.  \n",
    "Difference between String and List are as follows:-  \n",
    "Mutability:  \n",
    "- A string is immutable, meaning it cannot be changed after it is created.  \n",
    "- A list is mutable, meaning you can change, add, or remove elements in it.  \n",
    "\n",
    "Element Type:  \n",
    "- A string contains only characters, and each character is accessed by index.  \n",
    "- A list can contain mixed data types, such as numbers, strings, or even other lists.  \n",
    "\n",
    "Syntax:  \n",
    "- Strings are written in quotes, like \"hello\" or 'world'.  \n",
    "- Lists are written in square brackets, like ['h', 'e', 'l', 'l', 'o'].  \n",
    "\n",
    "Modification:  \n",
    "- You cannot modify a string directly; to make changes, you must create a new string.  \n",
    "- You can modify a list directly by using indexing, slicing, or list methods.  \n",
    "\n",
    "Functionality and Methods:  \n",
    "- Strings have text-related methods such as .upper(), .lower(), .replace(), .split(), etc.  \n",
    "- Lists have list-related methods such as .append(), .pop(), .insert(), .sort(), etc. \n",
    " \n",
    "Use Case:  \n",
    "- Strings are used for storing and manipulating text.  \n",
    "- Lists are used for storing a collection of items, especially when the items may need to change.  \n",
    "\n"
   ]
  },
  {
   "cell_type": "markdown",
   "id": "cfd37368",
   "metadata": {},
   "source": [
    "7] How do tuples ensure data integrity in Python?  \n",
    "Ans] Tuples in Python ensure data integrity primarily through their immutability. This means that once a tuple is created, its elements cannot be changed, added, or removed. This characteristic provides several ways to ensure data integrity.  \n"
   ]
  },
  {
   "cell_type": "markdown",
   "id": "aa099e15",
   "metadata": {},
   "source": [
    "8] What is a hash table, and how does it relate to dictionaries in Python?  \n",
    "Ans] A hash table is a data structure that stores key-value pairs, allowing for efficient retrieval of values based on their associated keys. It utilizes a hash function to map keys to specific indices within an underlying array. When a key-value pair is inserted, the hash function computes an index from the key, and the value is stored at that location. For retrieval, the same hash function is applied to the key to quickly locate the corresponding value.  \n",
    "In Python, a dictionary (dict) is implemented using a hash table internally.  \n",
    "For example:-  \n",
    "Applies a hash function to the key (e.g., \"name\").  \n",
    "Finds an index in an internal array.  \n",
    " Stores the key \"name\" and the value \"Alice\" at that location."
   ]
  },
  {
   "cell_type": "code",
   "execution_count": 5,
   "id": "00332f53",
   "metadata": {},
   "outputs": [
    {
     "name": "stdout",
     "output_type": "stream",
     "text": [
      "30\n"
     ]
    }
   ],
   "source": [
    "hash_table = {\n",
    "    \"name\": \"Alice\",\n",
    "    \"age\": 30,\n",
    "    \"city\": \"New York\"\n",
    "}\n",
    "\n",
    "print(hash_table[\"age\"])  "
   ]
  },
  {
   "cell_type": "markdown",
   "id": "bf6eda25",
   "metadata": {},
   "source": [
    "9] Can lists contain different data types in Python?  \n",
    "Ans] Yes, lists can contain different data types in Python.  \n",
    "Python lists are heterogeneous, which means they can hold elements of different types — such as integers, strings, floats, booleans, lists, or even other objects — all in a single list.  "
   ]
  },
  {
   "cell_type": "code",
   "execution_count": 6,
   "id": "2ac43e6e",
   "metadata": {},
   "outputs": [
    {
     "name": "stdout",
     "output_type": "stream",
     "text": [
      "[42, 'hello', 3.14, True, [1, 2, 3], {'key': 'value'}]\n"
     ]
    }
   ],
   "source": [
    "my_list = [42, \"hello\", 3.14, True, [1, 2, 3], {'key': 'value'}]\n",
    "print(my_list)"
   ]
  },
  {
   "cell_type": "markdown",
   "id": "3eb18b9a",
   "metadata": {},
   "source": [
    "10]  Explain why strings are immutable in Python.\n",
    "Ans] Strings in Python are \"immutable\" which means they can not be changed after they are created.   \n",
    "The immutability of Python string is very useful as it helps in hashing, performance optimization, safety, ease of use, etc.  \n",
    "- Efficiency and Performance  \n",
    "Strings are used a lot (in keys, messages, etc.).  \n",
    "If they were mutable, frequent changes could make string operations slow and memory-intensive.  \n",
    "Immutability allows Python to reuse string objects (called string interning) which saves memory and speeds up performance  \n",
    "- Hashing and Dictionary Keys  \n",
    "Strings can be used as keys in dictionaries or as elements in sets.  \n",
    "To do this, they must be hashable.  \n",
    "Mutable objects can change their value, which would break dictionary key lookup.  \n",
    "So, immutable strings ensure reliable and consistent hash values.  \n",
    "- Thread-Safety  \n",
    "Since strings can't be changed, they're safe to use in multi-threaded programs without worrying about unexpected modifications.  \n",
    "- Predictable Behavior  \n",
    "When you pass a string to a function or use it in expressions, you can be sure its value won't change unexpectedly.  \n",
    "This makes the code easier to understand and debug.  \n",
    "\n"
   ]
  },
  {
   "cell_type": "markdown",
   "id": "9b7b74de",
   "metadata": {},
   "source": [
    "11] What advantages do dictionaries offer over lists for certain tasks?  \n",
    "Ans] \n",
    "- Dictionaries in Python offer fast data retrieval: Unlike lists where you have to traverse through each element to find a value, dictionaries use hash tables for quick access to values based on keys.  \n",
    "- Dictionaries store data in key-value pairs, making the relationship between pieces of data much clearer. For example, storing a person's name and age in a dictionary is more readable and meaningful than placing them in a list.  \n",
    "- With a dictionary, you don’t need to remember the position of a value as you do with a list. Instead, you can use descriptive keys like \"name\" or \"age\", which makes the code easier to understand and maintain.  \n",
    "- Dictionaries are more flexible when it comes to modifying data. You can easily add, update, or remove entries using keys, without worrying about the order or position of items like you would in a list.  \n",
    "- When working with structured or labeled data, dictionaries are often more appropriate. They are ideal for representing things like user profiles, database records, and settings, where each piece of data has a unique label.  \n",
    "- Dictionaries are used in many real-world scenarios, such as JSON objects and configuration files, because they allow data to be organized with meaningful identifiers instead of relying on positions."
   ]
  },
  {
   "cell_type": "markdown",
   "id": "9d3bfa9e",
   "metadata": {},
   "source": [
    "12] Describe a scenario where using a tuple would be preferable over a list?  \n",
    "Ans] When you need to store a fixed collection of values that should not change, a tuple is the better choice over a list.  \n",
    "Ex:-  \n",
    "Imagine you're building a GPS-based application that tracks fixed locations (like landmarks or predefined waypoints). Each location has a latitude and longitude that should not be changed after being set.  \n",
    "location = (19.0760, 72.8777) - This should not be changed so we put this entry in a tuple.  \n",
    "Ex:- Representing days of the week, RGB color values   "
   ]
  },
  {
   "cell_type": "markdown",
   "id": "f7b75305",
   "metadata": {},
   "source": [
    "13]  How do sets handle duplicate values in Python?  \n",
    "Ans] A set is an unordered collection of unique elements, so when you add duplicate items, only one copy is kept.  \n",
    "Sets in Python are designed to store only unique elements. They inherently do not allow duplicate values. When attempting to add an element that already exists within a set, the set remains unchanged, and the duplicate element is not incorporated."
   ]
  },
  {
   "cell_type": "code",
   "execution_count": 7,
   "id": "c0be7771",
   "metadata": {},
   "outputs": [
    {
     "name": "stdout",
     "output_type": "stream",
     "text": [
      "Initial set: {1, 2, 3}\n",
      "Set after adding a duplicate: {1, 2, 3}\n",
      "Unique elements from a list: {1, 2, 3, 4, 5}\n"
     ]
    }
   ],
   "source": [
    "my_set = {1, 2, 3}\n",
    "print(f\"Initial set: {my_set}\")\n",
    "\n",
    "my_set.add(2) \n",
    "print(f\"Set after adding a duplicate: {my_set}\")\n",
    "\n",
    "my_list = [1, 2, 2, 3, 4, 4, 5]\n",
    "unique_elements = set(my_list)\n",
    "print(f\"Unique elements from a list: {unique_elements}\")"
   ]
  },
  {
   "cell_type": "markdown",
   "id": "e59b9bb9",
   "metadata": {},
   "source": [
    "14] How does the “in” keyword work differently for lists and dictionaries?  \n",
    "Ans] The in keyword is used to check for membership in both lists and dictionaries, but it works differently for each.  \n",
    "- List  \n",
    "The in keyword checks if a value exists in the list.  \n",
    "Time Complexity O(n)\n",
    "fruits = [\"apple\", \"banana\", \"mango\"]\n",
    "print(\"banana\" in fruits)  \n",
    "print(\"grape\" in fruits)   \n",
    "- Dictionaries  \n",
    "The in keyword checks if a key exists in the dictionary — not the value.  \n",
    "Time Complexity O(1)\n",
    "person = {\"name\": \"Alice\", \"age\": 25}\n",
    "print(\"name\" in person)    \n",
    "print(\"Alice\" in person)  \n",
    "If we need to check values:-  \n",
    "print(\"Alice\" in person.values())    \n",
    "\n",
    "\n",
    "\n",
    "\n"
   ]
  },
  {
   "cell_type": "markdown",
   "id": "dfb40da9",
   "metadata": {},
   "source": [
    "15] Can you modify the elements of a tuple? Explain why or why not?  \n",
    "Ans] No, you cannot modify the elements of a tuple in Python  \n",
    "Tuples are immutable: Once a tuple is created, its contents cannot be changed — you cannot add, remove, or modify elements.  "
   ]
  },
  {
   "cell_type": "code",
   "execution_count": 1,
   "id": "2837c461",
   "metadata": {},
   "outputs": [
    {
     "ename": "TypeError",
     "evalue": "'tuple' object does not support item assignment",
     "output_type": "error",
     "traceback": [
      "\u001b[1;31m---------------------------------------------------------------------------\u001b[0m",
      "\u001b[1;31mTypeError\u001b[0m                                 Traceback (most recent call last)",
      "Cell \u001b[1;32mIn[1], line 2\u001b[0m\n\u001b[0;32m      1\u001b[0m t \u001b[38;5;241m=\u001b[39m (\u001b[38;5;241m1\u001b[39m, \u001b[38;5;241m2\u001b[39m, \u001b[38;5;241m3\u001b[39m)\n\u001b[1;32m----> 2\u001b[0m \u001b[43mt\u001b[49m\u001b[43m[\u001b[49m\u001b[38;5;241;43m0\u001b[39;49m\u001b[43m]\u001b[49m \u001b[38;5;241m=\u001b[39m \u001b[38;5;241m10\u001b[39m\n",
      "\u001b[1;31mTypeError\u001b[0m: 'tuple' object does not support item assignment"
     ]
    }
   ],
   "source": [
    "t = (1, 2, 3)\n",
    "t[0] = 10"
   ]
  },
  {
   "cell_type": "markdown",
   "id": "abb06007",
   "metadata": {},
   "source": [
    "16] What is a nested dictionary, and give an example of its use case?  \n",
    "Ans] A nested dictionary is a dictionary where values are themselves dictionaries.  "
   ]
  },
  {
   "cell_type": "code",
   "execution_count": 2,
   "id": "f18d174f",
   "metadata": {},
   "outputs": [
    {
     "name": "stdout",
     "output_type": "stream",
     "text": [
      "{'101': {'name': 'Alice', 'age': 20, 'marks': 85}, '102': {'name': 'Bob', 'age': 22, 'marks': 90}, '103': {'name': 'Charlie', 'age': 21, 'marks': 88}}\n"
     ]
    }
   ],
   "source": [
    "students = {\n",
    "    \"101\": {\"name\": \"Alice\", \"age\": 20, \"marks\": 85},\n",
    "    \"102\": {\"name\": \"Bob\", \"age\": 22, \"marks\": 90},\n",
    "    \"103\": {\"name\": \"Charlie\", \"age\": 21, \"marks\": 88}\n",
    "}\n",
    "print(students)"
   ]
  },
  {
   "cell_type": "markdown",
   "id": "1937daf6",
   "metadata": {},
   "source": [
    "17] Describe the time complexity of accessing elements in a dictionary?  \n",
    "Ans] In Python, dictionaries are implemented using hash tables, which provide very fast access to elements.  \n",
    "- Average Case: O(1)  \n",
    "Accessing an element using a key is constant time, meaning it takes the same amount of time regardless of the size of the dictionary.\n",
    "- Worst Case: O(n)  \n",
    "This happens rarely, such as when many keys hash to the same value (called a hash collision), causing them to be stored in a list or tree structure internally.\n",
    "\n"
   ]
  },
  {
   "cell_type": "markdown",
   "id": "24dc8f50",
   "metadata": {},
   "source": [
    "18]  In what situations are lists preferred over dictionaries?  \n",
    "Ans]\n",
    "- Ordered Data without Keys  \n",
    "If you just need to store an ordered collection of items (like a sequence), and there's no need for unique keys, a list is simpler and more memory-efficient.  \n",
    "- Index-Based Access.  \n",
    "When you want to access elements by their position/index, not by a key.  \n",
    "- Storing Homogeneous Data.  \n",
    "If all items are of the same type or category (e.g., all numbers, strings, etc.), lists are ideal..  \n",
    "- Iterating in Order.  \n",
    "Lists maintain insertion order, and it's easier to loop through them in order.  \n",
    "- Dynamic Resizing and Simple Structure.  \n",
    "Lists are simpler when you just need a resizable array-like container.\n"
   ]
  },
  {
   "cell_type": "markdown",
   "id": "1e2d20c3",
   "metadata": {},
   "source": [
    "19] Why are dictionaries considered unordered, and how does that affect data retrieval?  \n",
    "Ans] Dictionaries were called unordered because they store and find items by key, not by position. This means the order didn’t matter before.\n",
    "Now in newer Python versions, they do keep order, but the way you get data is still by key, not by position.  \n",
    "When you added items to a dictionary, their order during iteration could be random or unexpected.\n",
    "This is because hash tables store data based on the hash of the keys, not based on when you added them.  \n",
    "-Access by Key is Fast  \n",
    "You can quickly find a value using its key.  \n",
    "It doesn’t matter where the item is in the dictionary.  \n",
    "This is because dictionaries use hashing, which gives O(1) (constant time) access while list takes O(n) Time Complexity.  \n",
    "\n"
   ]
  },
  {
   "cell_type": "markdown",
   "id": "f5f5839d",
   "metadata": {},
   "source": [
    "20] Explain the difference between a list and a dictionary in terms of data retrieval?  \n",
    "Ans] A list stores items in a specific order, and you access them using their position, called an index. For example, the first item is at index 0, the second at index 1, and so on.  \n",
    "A dictionary, on the other hand, stores key-value pairs, and you access items using their key, not their position. For example, if you have a person's name stored under the key \"name\", you get it using my_dict[\"name\"].  \n",
    "Data retrieval in a list can be slower if you have to search for a specific value, especially in large lists. But in a dictionary, finding a value by its key is very fast, no matter how big the dictionary is.  \n",
    "In summary, use a list when you need to keep things in order and access them by number, and use a dictionary when you want to label your data and look it up quickly using those labels.  "
   ]
  },
  {
   "cell_type": "markdown",
   "id": "4339e36f",
   "metadata": {},
   "source": [
    "Practical Questions\n",
    "-"
   ]
  },
  {
   "cell_type": "markdown",
   "id": "dfed412f",
   "metadata": {},
   "source": [
    "1. Write a code to create a string with your name and print it."
   ]
  },
  {
   "cell_type": "code",
   "execution_count": 1,
   "id": "786b56df",
   "metadata": {},
   "outputs": [
    {
     "name": "stdout",
     "output_type": "stream",
     "text": [
      "Satyam Kothawade\n"
     ]
    }
   ],
   "source": [
    "a = 'Satyam Kothawade'\n",
    "print(a)\n"
   ]
  },
  {
   "cell_type": "markdown",
   "id": "a4167f92",
   "metadata": {},
   "source": [
    "2. Write a code to find the length of the string \"Hello World\"."
   ]
  },
  {
   "cell_type": "code",
   "execution_count": 3,
   "id": "3ef5bd0f",
   "metadata": {},
   "outputs": [
    {
     "name": "stdout",
     "output_type": "stream",
     "text": [
      "Length of String is 11\n"
     ]
    }
   ],
   "source": [
    "string = \"Hello World\"\n",
    "a = len(string)\n",
    "print(f'Length of String is {a}')"
   ]
  },
  {
   "cell_type": "markdown",
   "id": "67f7a8fa",
   "metadata": {},
   "source": [
    "3. Write a code to slice the first 3 characters from the string \"Python Programming\"."
   ]
  },
  {
   "cell_type": "code",
   "execution_count": 4,
   "id": "e860c870",
   "metadata": {},
   "outputs": [
    {
     "name": "stdout",
     "output_type": "stream",
     "text": [
      "Pyt\n"
     ]
    }
   ],
   "source": [
    "string = \"Python Programming\"\n",
    "a = string[0:3]\n",
    "print(a)"
   ]
  },
  {
   "cell_type": "markdown",
   "id": "f7e67625",
   "metadata": {},
   "source": [
    "4. Write a code to convert the string \"hello\" to uppercase."
   ]
  },
  {
   "cell_type": "code",
   "execution_count": 5,
   "id": "1e9a2362",
   "metadata": {},
   "outputs": [
    {
     "name": "stdout",
     "output_type": "stream",
     "text": [
      "The upper case of string is HELLO\n"
     ]
    }
   ],
   "source": [
    "string = \"hello\"\n",
    "a = string.upper()\n",
    "print(f'The upper case of string is {a}')"
   ]
  },
  {
   "cell_type": "markdown",
   "id": "b6398a26",
   "metadata": {},
   "source": [
    "5. Write a code to replace the word \"apple\" with \"orange\" in the string \"I like apple\","
   ]
  },
  {
   "cell_type": "code",
   "execution_count": 12,
   "id": "0e21ad78",
   "metadata": {},
   "outputs": [
    {
     "name": "stdout",
     "output_type": "stream",
     "text": [
      "I like orange\n"
     ]
    }
   ],
   "source": [
    "string = \"I like apple\"\n",
    "a = list(string.split(\" \"))\n",
    "a[2]='orange'\n",
    "c = \" \".join(a)\n",
    "print(c)\n"
   ]
  },
  {
   "cell_type": "markdown",
   "id": "d795acdf",
   "metadata": {},
   "source": [
    "6. Write a code to create a list with numbers 1 to 5 and print it."
   ]
  },
  {
   "cell_type": "code",
   "execution_count": 13,
   "id": "84b8c4c8",
   "metadata": {},
   "outputs": [
    {
     "name": "stdout",
     "output_type": "stream",
     "text": [
      "[1, 2, 3, 4, 5]\n"
     ]
    }
   ],
   "source": [
    "lst=[]\n",
    "for i in range(1,6):\n",
    "    lst.append(i)\n",
    "\n",
    "print(lst)"
   ]
  },
  {
   "cell_type": "markdown",
   "id": "56aa4d2b",
   "metadata": {},
   "source": [
    "7. Write a code to append the number 10 to the list [1, 2, 3, 4]."
   ]
  },
  {
   "cell_type": "code",
   "execution_count": 14,
   "id": "a4ea5b60",
   "metadata": {},
   "outputs": [
    {
     "name": "stdout",
     "output_type": "stream",
     "text": [
      "[1, 2, 3, 4, 10]\n"
     ]
    }
   ],
   "source": [
    "lst = [1,2,3,4]\n",
    "lst.append(10)\n",
    "print(lst)"
   ]
  },
  {
   "cell_type": "markdown",
   "id": "60422e3b",
   "metadata": {},
   "source": [
    "8. Write a code to remove the number 3 from the list [1, 2, 3, 4, 5]."
   ]
  },
  {
   "cell_type": "code",
   "execution_count": 15,
   "id": "9852a56e",
   "metadata": {},
   "outputs": [
    {
     "name": "stdout",
     "output_type": "stream",
     "text": [
      "[1, 2, 4, 5]\n"
     ]
    }
   ],
   "source": [
    "lst = [1,2,3,4,5]\n",
    "lst.remove(3)\n",
    "print(lst)"
   ]
  },
  {
   "cell_type": "markdown",
   "id": "28111b57",
   "metadata": {},
   "source": [
    "9. Write a code to access the second element in the list ['a', 'b', 'c', 'd']."
   ]
  },
  {
   "cell_type": "code",
   "execution_count": 16,
   "id": "280a4ce5",
   "metadata": {},
   "outputs": [
    {
     "name": "stdout",
     "output_type": "stream",
     "text": [
      "b\n"
     ]
    }
   ],
   "source": [
    "lst = ['a','b','c','d']\n",
    "print(lst[1])"
   ]
  },
  {
   "cell_type": "markdown",
   "id": "d2a1692f",
   "metadata": {},
   "source": [
    "10. Write a code to reverse the list [10, 20, 30, 40, 50]."
   ]
  },
  {
   "cell_type": "code",
   "execution_count": 24,
   "id": "63a888aa",
   "metadata": {},
   "outputs": [
    {
     "name": "stdout",
     "output_type": "stream",
     "text": [
      "[50, 40, 30, 20, 10]\n"
     ]
    }
   ],
   "source": [
    "lst = [10,20,30,40,50]\n",
    "lst.reverse()\n",
    "print(lst)"
   ]
  },
  {
   "cell_type": "markdown",
   "id": "28fa8da7",
   "metadata": {},
   "source": [
    "11. Write a code to create a tuple with the elements 100, 200, 300 and print it."
   ]
  },
  {
   "cell_type": "code",
   "execution_count": 28,
   "id": "8355c1e6",
   "metadata": {},
   "outputs": [
    {
     "name": "stdout",
     "output_type": "stream",
     "text": [
      "The Tuple is: (100, 200, 300)\n"
     ]
    }
   ],
   "source": [
    "a=(100,200,300)\n",
    "print(f'The Tuple is: {a}')"
   ]
  },
  {
   "cell_type": "markdown",
   "id": "f4c0ecf6",
   "metadata": {},
   "source": [
    "12. Write a code to access the second-to-last element of the tuple ('red', 'green', 'blue', 'yellow')."
   ]
  },
  {
   "cell_type": "code",
   "execution_count": 29,
   "id": "0178a809",
   "metadata": {},
   "outputs": [
    {
     "name": "stdout",
     "output_type": "stream",
     "text": [
      "blue\n"
     ]
    }
   ],
   "source": [
    "tuple =  ('red', 'green', 'blue', 'yellow')\n",
    "print(tuple[-2])"
   ]
  },
  {
   "cell_type": "markdown",
   "id": "df6185df",
   "metadata": {},
   "source": [
    "13. Write a code to find the minimum number in the tuple (10, 20, 5, 15)."
   ]
  },
  {
   "cell_type": "code",
   "execution_count": 30,
   "id": "49b2eefd",
   "metadata": {},
   "outputs": [
    {
     "name": "stdout",
     "output_type": "stream",
     "text": [
      "5\n"
     ]
    }
   ],
   "source": [
    "tuple = (10,20,5,15)\n",
    "a= min(tuple)\n",
    "print(a)"
   ]
  },
  {
   "cell_type": "markdown",
   "id": "3582c3c0",
   "metadata": {},
   "source": [
    "14. Write a code to find the index of the element \"cat\" in the tuple ('dog', 'cat', 'rabbit')."
   ]
  },
  {
   "cell_type": "code",
   "execution_count": 31,
   "id": "fb7bb97f",
   "metadata": {},
   "outputs": [
    {
     "name": "stdout",
     "output_type": "stream",
     "text": [
      "1\n"
     ]
    }
   ],
   "source": [
    "tuple = ('dog','cat','rabbit')\n",
    "print(tuple.index('cat'))"
   ]
  },
  {
   "cell_type": "markdown",
   "id": "7e260a5e",
   "metadata": {},
   "source": [
    "15. Write a code to create a tuple containing three different fruits and check if \"kiwi\" is in it."
   ]
  },
  {
   "cell_type": "code",
   "execution_count": 34,
   "id": "42912e73",
   "metadata": {},
   "outputs": [
    {
     "name": "stdout",
     "output_type": "stream",
     "text": [
      "Yes, kiwi is present in the tuple\n"
     ]
    }
   ],
   "source": [
    "fruits = ('apple','banana','kiwi')\n",
    "if('kiwi' in fruits):\n",
    "    print('Yes, kiwi is present in the tuple')\n",
    "else:\n",
    "    print('No, kiwi is not present in tuple')"
   ]
  },
  {
   "cell_type": "markdown",
   "id": "6ecbe493",
   "metadata": {},
   "source": [
    "16. Write a code to create a set with the elements 'a', 'b', 'c' and print it."
   ]
  },
  {
   "cell_type": "code",
   "execution_count": 36,
   "id": "92f68532",
   "metadata": {},
   "outputs": [
    {
     "name": "stdout",
     "output_type": "stream",
     "text": [
      "{'c', 'b', 'a'}\n"
     ]
    }
   ],
   "source": [
    "a={'a','b','c'}\n",
    "print(a)"
   ]
  },
  {
   "cell_type": "markdown",
   "id": "5d433c16",
   "metadata": {},
   "source": [
    "17. Write a code to clear all elements from the set {1, 2, 3, 4, 5}."
   ]
  },
  {
   "cell_type": "code",
   "execution_count": 41,
   "id": "1dbd162d",
   "metadata": {},
   "outputs": [],
   "source": [
    "a={1,2,3,4,5}\n",
    "a.clear()"
   ]
  },
  {
   "cell_type": "markdown",
   "id": "bd79b05a",
   "metadata": {},
   "source": [
    "18. Write a code to remove the element 4 from the set {1, 2, 3, 4}."
   ]
  },
  {
   "cell_type": "code",
   "execution_count": 42,
   "id": "0a4c3040",
   "metadata": {},
   "outputs": [
    {
     "name": "stdout",
     "output_type": "stream",
     "text": [
      "{1, 2, 3}\n"
     ]
    }
   ],
   "source": [
    "a = {1,2,3,4}\n",
    "a.remove(4)\n",
    "print(a)"
   ]
  },
  {
   "cell_type": "markdown",
   "id": "176b9fe5",
   "metadata": {},
   "source": [
    "19. Write a code to find the union of two sets {1, 2, 3} and {3, 4, 5}."
   ]
  },
  {
   "cell_type": "code",
   "execution_count": 47,
   "id": "11df1353",
   "metadata": {},
   "outputs": [
    {
     "name": "stdout",
     "output_type": "stream",
     "text": [
      "{1, 2, 3, 4, 5}\n"
     ]
    }
   ],
   "source": [
    "a = {1,2,3}\n",
    "b = {3,4,5}\n",
    "c = a.union(b)\n",
    "print(c)"
   ]
  },
  {
   "cell_type": "markdown",
   "id": "d525b161",
   "metadata": {},
   "source": [
    "20. Write a code to find the intersection of two sets {1, 2, 3} and {2, 3, 4}."
   ]
  },
  {
   "cell_type": "code",
   "execution_count": 48,
   "id": "28958bc4",
   "metadata": {},
   "outputs": [
    {
     "name": "stdout",
     "output_type": "stream",
     "text": [
      "{2, 3}\n"
     ]
    }
   ],
   "source": [
    "a={1,2,3}\n",
    "b={2,3,4}\n",
    "c = a.intersection(b)\n",
    "print(c)"
   ]
  },
  {
   "cell_type": "markdown",
   "id": "f8e11b09",
   "metadata": {},
   "source": [
    "21. Write a code to create a dictionary with the keys \"name\", \"age\", and \"city\", and print it."
   ]
  },
  {
   "cell_type": "code",
   "execution_count": 49,
   "id": "04beefc6",
   "metadata": {},
   "outputs": [
    {
     "name": "stdout",
     "output_type": "stream",
     "text": [
      "{'name': 'Satyam Kothawade', 'age': 25, 'city': 'Pune'}\n"
     ]
    }
   ],
   "source": [
    "dictionary = {'name':'Satyam Kothawade','age':25,'city':'Pune'}\n",
    "print(dictionary)"
   ]
  },
  {
   "cell_type": "markdown",
   "id": "7764d44c",
   "metadata": {},
   "source": [
    "22. Write a code to add a new key-value pair \"country\": \"USA\" to the dictionary {'name': 'John', 'age': 25}."
   ]
  },
  {
   "cell_type": "code",
   "execution_count": 52,
   "id": "159a81e8",
   "metadata": {},
   "outputs": [
    {
     "name": "stdout",
     "output_type": "stream",
     "text": [
      "{'name': 'John', 'age': 25, 'country': 'USA'}\n"
     ]
    }
   ],
   "source": [
    "dictionary = {'name':'John','age':25}\n",
    "dictionary['country'] = 'USA'\n",
    "print(dictionary)"
   ]
  },
  {
   "cell_type": "markdown",
   "id": "199b04d6",
   "metadata": {},
   "source": [
    "23. Write a code to access the value associated with the key \"name\" in the dictionary {'name': 'Alice', 'age': 30}."
   ]
  },
  {
   "cell_type": "code",
   "execution_count": 58,
   "id": "2d2bcd0b",
   "metadata": {},
   "outputs": [
    {
     "name": "stdout",
     "output_type": "stream",
     "text": [
      "Ailce\n"
     ]
    }
   ],
   "source": [
    "dictionary = {'name':'Ailce','age':30}\n",
    "print(dictionary['name'])"
   ]
  },
  {
   "cell_type": "markdown",
   "id": "d00859be",
   "metadata": {},
   "source": [
    "24. Write a code to remove the key \"age\" from the dictionary {'name': 'Bob', 'age': 22, 'city': 'New York'}."
   ]
  },
  {
   "cell_type": "code",
   "execution_count": 59,
   "id": "0f74aaf0",
   "metadata": {},
   "outputs": [
    {
     "name": "stdout",
     "output_type": "stream",
     "text": [
      "{'name': 'Bob', 'city': 'New York'}\n"
     ]
    }
   ],
   "source": [
    "dictionary =  {'name': 'Bob', 'age': 22, 'city': 'New York'}\n",
    "del dictionary['age']\n",
    "print(dictionary)"
   ]
  },
  {
   "cell_type": "markdown",
   "id": "878eb08e",
   "metadata": {},
   "source": [
    "25. Write a code to check if the key \"city\" exists in the dictionary {'name': 'Alice', 'city': 'Paris'}."
   ]
  },
  {
   "cell_type": "code",
   "execution_count": 62,
   "id": "701d6a7f",
   "metadata": {},
   "outputs": [
    {
     "name": "stdout",
     "output_type": "stream",
     "text": [
      "City Exists in Dictionary\n"
     ]
    }
   ],
   "source": [
    "dictionary =  {'name': 'Alice', 'city': 'Paris'}\n",
    "if(\"city\" in dictionary):\n",
    "    print(\"City Exists in Dictionary\")\n",
    "else:\n",
    "    print(\"City does not Exists in Dictionary\")"
   ]
  },
  {
   "cell_type": "markdown",
   "id": "41f1dbe5",
   "metadata": {},
   "source": [
    "26. Write a code to create a list, a tuple, and a dictionary, and print them all."
   ]
  },
  {
   "cell_type": "code",
   "execution_count": 63,
   "id": "4bf07dbb",
   "metadata": {},
   "outputs": [
    {
     "name": "stdout",
     "output_type": "stream",
     "text": [
      "['1', '2', 3, '4']\n",
      "(1, 2, 3, 4)\n",
      "{'name': 'Bob', 'age': 22, 'city': 'New York'}\n"
     ]
    }
   ],
   "source": [
    "a=['1','2',3,'4']\n",
    "b=(1,2,3,4)\n",
    "c={'name': 'Bob', 'age': 22, 'city': 'New York'}\n",
    "print(a)\n",
    "print(b)\n",
    "print(c)"
   ]
  },
  {
   "cell_type": "markdown",
   "id": "6c1228ab",
   "metadata": {},
   "source": [
    "27. Write a code to create a list of 5 random numbers between 1 and 100, sort it in ascending order, and print the\n",
    "result.(replaced)."
   ]
  },
  {
   "cell_type": "code",
   "execution_count": 76,
   "id": "2a502d30",
   "metadata": {},
   "outputs": [
    {
     "name": "stdout",
     "output_type": "stream",
     "text": [
      "[20 61 87 95 97]\n"
     ]
    }
   ],
   "source": [
    "import numpy as np\n",
    "a= np.random.randint(1,100,size=(5))\n",
    "a.sort()\n",
    "print(a)"
   ]
  },
  {
   "cell_type": "markdown",
   "id": "f7a98102",
   "metadata": {},
   "source": [
    "28. Write a code to create a list with strings and print the element at the third index."
   ]
  },
  {
   "cell_type": "code",
   "execution_count": 79,
   "id": "79f682c0",
   "metadata": {},
   "outputs": [
    {
     "name": "stdout",
     "output_type": "stream",
     "text": [
      "Is it 2025\n"
     ]
    }
   ],
   "source": [
    "lst=['How are you?','I am fine','Which year is this?','Is it 2025','Yes it is']\n",
    "print(lst[3])"
   ]
  },
  {
   "cell_type": "markdown",
   "id": "a2651c83",
   "metadata": {},
   "source": [
    "29. Write a code to combine two dictionaries into one and print the result."
   ]
  },
  {
   "cell_type": "code",
   "execution_count": 81,
   "id": "95f123cf",
   "metadata": {},
   "outputs": [
    {
     "name": "stdout",
     "output_type": "stream",
     "text": [
      "{'name': 'Alice', 'city': 'Paris', 'name1': 'Bob', 'age': 22, 'city1': 'New York'}\n"
     ]
    }
   ],
   "source": [
    "dictionary =  {'name': 'Alice', 'city': 'Paris'}\n",
    "dictionary1 =  {'name1': 'Bob', 'age': 22, 'city1': 'New York'}\n",
    "dictionary2 = {**dictionary,**dictionary1}\n",
    "print(dictionary2)\n"
   ]
  },
  {
   "cell_type": "markdown",
   "id": "2c85e7d3",
   "metadata": {},
   "source": [
    "30. Write a code to convert a list of strings into a set."
   ]
  },
  {
   "cell_type": "code",
   "execution_count": 82,
   "id": "20a10868",
   "metadata": {},
   "outputs": [
    {
     "name": "stdout",
     "output_type": "stream",
     "text": [
      "{'I am fine', 'How are you?', 'Which year is this?', 'Is it 2025', 'Yes it is'}\n"
     ]
    }
   ],
   "source": [
    "lst=['How are you?','I am fine','Which year is this?','Is it 2025','Yes it is']\n",
    "set = set(lst)\n",
    "print(set)"
   ]
  }
 ],
 "metadata": {
  "kernelspec": {
   "display_name": "Python 3",
   "language": "python",
   "name": "python3"
  },
  "language_info": {
   "codemirror_mode": {
    "name": "ipython",
    "version": 3
   },
   "file_extension": ".py",
   "mimetype": "text/x-python",
   "name": "python",
   "nbconvert_exporter": "python",
   "pygments_lexer": "ipython3",
   "version": "3.10.0"
  }
 },
 "nbformat": 4,
 "nbformat_minor": 5
}
