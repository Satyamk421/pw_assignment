{
 "cells": [
  {
   "cell_type": "markdown",
   "id": "a90279ce",
   "metadata": {},
   "source": [
    "Python Questions\n",
    "-"
   ]
  },
  {
   "cell_type": "markdown",
   "id": "9b050b56",
   "metadata": {},
   "source": [
    "1] What is Python, and why is it popular?  \n",
    "Ans] Python is a high-level, interpreted programming language known for its simplicity, readability, and versatility. It was created by Guido van Rossum and first released in 1991. It is popular because  \n",
    "- 1] It has a Simple Syntax as compared to other programming language.\n",
    "- 2] Python works independent of platform which means the same code can be run on multiple platform.\n",
    "- 3] Python can be used for many things like web development, data science, AI, and automation.\n",
    "- 4] Python has many libraries that save time and make coding faster."
   ]
  },
  {
   "cell_type": "markdown",
   "id": "97805fe9",
   "metadata": {},
   "source": [
    "2] What is an interpreter in Python?  \n",
    "Ans] An interpreter in Python is a program that reads and runs the code line by line."
   ]
  },
  {
   "cell_type": "markdown",
   "id": "7bdf3b71",
   "metadata": {},
   "source": [
    "3] What are pre-defined keywords in Python?  \n",
    "Ans] Pre-defined keywords in Python are special words that have a fixed meaning in the language.\n",
    "You cannot use them as variable names because they are reserved by Python.  \n",
    "Ex: for, while, int, break, if, else."
   ]
  },
  {
   "cell_type": "markdown",
   "id": "1b9abce0",
   "metadata": {},
   "source": [
    "4]Can keywords be used as variable names?  \n",
    "Ans] No, keywords cannot be used as variable names Because keywords have special meaning in Python."
   ]
  },
  {
   "cell_type": "markdown",
   "id": "9781ec51",
   "metadata": {},
   "source": [
    "5] What is mutability in Python?  \n",
    "Ans] Mutability in Python refers to whether the value of an object can be changed after it is created.  \n",
    "Ex of Mutability:- List, Dictionary, Set.  \n",
    "Ex of Immutable Objects :- String, Tuples."
   ]
  },
  {
   "cell_type": "markdown",
   "id": "70235cfd",
   "metadata": {},
   "source": [
    "6]Why are lists mutable, but tuples are immutable?  \n",
    "Ans] Lists are designed to hold changing data. We can add, remove, or change elements in a list after it's created.  \n",
    "lists are used when we expect the data to change.  \n",
    "\n",
    "When a tuple is created, its values cannot be changed Because tuples are used when we want to protect the data from being changed — like coordinates, dates, or dictionary keys and it takes less memory as compared to lists.  \n",
    "lists are mutable because they’re built for flexibility, while tuples are immutable to protect data and improve performance.\n"
   ]
  },
  {
   "cell_type": "markdown",
   "id": "09035ae7",
   "metadata": {},
   "source": [
    "7]What is the difference between “==” and “is” operators in Python?  \n",
    "Ans] \"==\" checks if two values are equal, even if they are stored in different places.  \n",
    "Use \"==\" when comparing values (like numbers, strings, or list contents).  \n",
    "\n",
    "\"is\" checks if two variables point to the exact same object in memory.  \n",
    "Use \"is\" when checking identity.\n"
   ]
  },
  {
   "cell_type": "markdown",
   "id": "e16af0b3",
   "metadata": {},
   "source": [
    "8]  What are logical operators in Python?  \n",
    "Ans] Logical operators in Python are used to combine multiple conditions and return either True or False.  \n",
    "Logical Operators are :- and, or, not  \n",
    "and - It returns True only if both conditions are True.  \n",
    "or - It returns True if at least one condition is True.  \n",
    "not - It flips True to False and vice versa."
   ]
  },
  {
   "cell_type": "markdown",
   "id": "8c648e7b",
   "metadata": {},
   "source": [
    "9] What is type casting in Python?  \n",
    "Ans] Type casting is the process of changing the data type of a variable (like from string to integer, or integer to float) using built-in Python functions such as int(), float(), or str().  \n",
    "Ex :- x = \"20\"  \n",
    " y = int(x)"
   ]
  },
  {
   "cell_type": "markdown",
   "id": "22146256",
   "metadata": {},
   "source": [
    "10] What is the difference between implicit and explicit type casting?  \n",
    "Ans] Implicit:  \n",
    "Implicit type casting is done automatically by Python, like turning an int into a float during math operations.  \n",
    "\n",
    "Explicit:  \n",
    "Explicit type casting is done manually by the programmer using casting functions like int(), float(), and str()."
   ]
  },
  {
   "cell_type": "markdown",
   "id": "5992d15a",
   "metadata": {},
   "source": [
    "11] What is the purpose of conditional statements in Python?  \n",
    "Ans] The purpose of conditional statements in Python is to control the flow of execution in a program based on whether certain conditions are met. They enable programs to make decisions and perform different actions depending on the outcome of a logical evaluation."
   ]
  },
  {
   "cell_type": "code",
   "execution_count": 1,
   "id": "ab6cc79b",
   "metadata": {},
   "outputs": [
    {
     "name": "stdout",
     "output_type": "stream",
     "text": [
      "The given word is a Python Keyword\n"
     ]
    }
   ],
   "source": [
    "import keyword\n",
    "a = keyword.kwlist\n",
    "b= input(\"Please Enter a Word\")\n",
    "if(b in a):\n",
    "    print('The given word is a Python Keyword')\n",
    "else:\n",
    "    print('The given word is not a Python Keyword')"
   ]
  },
  {
   "cell_type": "markdown",
   "id": "58e6553e",
   "metadata": {},
   "source": [
    "12] How does the elif statement work?  \n",
    "Ans] 'Elif' stands for 'else if' and is used in Python programming to test multiple conditions. It is written following an if statement in Python to check an alternative condition if the first condition is false."
   ]
  },
  {
   "cell_type": "code",
   "execution_count": 2,
   "id": "f31ebc26",
   "metadata": {},
   "outputs": [
    {
     "name": "stdout",
     "output_type": "stream",
     "text": [
      "The number entered is POSITIVE\n"
     ]
    }
   ],
   "source": [
    "number = float(input(\"Enter a Number\"))\n",
    "if(number>0):\n",
    "    print(\"The number entered is POSITIVE\")\n",
    "elif(number<0):\n",
    "    print(\"The number entered is NEGATIVE\")\n",
    "else:\n",
    "    print(\"The number entered is ZERO\")"
   ]
  },
  {
   "cell_type": "markdown",
   "id": "e727f6de",
   "metadata": {},
   "source": [
    "13.What is the difference between for and while loops?  \n",
    "- While loop:-  \n",
    "   While loop is used when the number of iterations are not predefined.  \n",
    "   The while loop runs until the condition is true.  \n",
    "   In this we need to add iterative variable in the loop \n",
    "\n",
    "- For loop:-  \n",
    "   The for loop is used when the number of iterations is predefined or known.\n",
    "   It automatically runs through each item in a sequence (like a list, string, or range).\n",
    "   The loop control (iteration variable) is defined in the for statement itself — no need to manually update it.\n",
    "   \n",
    "\n"
   ]
  },
  {
   "cell_type": "code",
   "execution_count": 3,
   "id": "bf7367cf",
   "metadata": {},
   "outputs": [
    {
     "name": "stdout",
     "output_type": "stream",
     "text": [
      "2\n"
     ]
    }
   ],
   "source": [
    "#While loop\n",
    "factorial = int(input(\"Enter a number\"))\n",
    "num=1\n",
    "while(factorial!=0):\n",
    "    num=num * factorial\n",
    "    factorial -= 1\n",
    "print(num)"
   ]
  },
  {
   "cell_type": "code",
   "execution_count": 4,
   "id": "74eca368",
   "metadata": {},
   "outputs": [
    {
     "name": "stdout",
     "output_type": "stream",
     "text": [
      "Sum of even numbers from 1 to 50 is: 650\n"
     ]
    }
   ],
   "source": [
    "#For loop\n",
    "even=0\n",
    "for i in range(1,51):\n",
    "    if(i%2==0):\n",
    "        even =even+i\n",
    "\n",
    "print(f'Sum of even numbers from 1 to 50 is: {even}')"
   ]
  },
  {
   "cell_type": "markdown",
   "id": "1489d259",
   "metadata": {},
   "source": [
    "14.Describe a scenario where a while loop is more suitable than a for loop?  \n",
    "\n",
    "While loop is best suitable when we don't know how many time the loop shoud run.  \n",
    "While loop is more suitable for the below scenarios:-  \n",
    "      - While writing a factorial of a number.\n"
   ]
  },
  {
   "cell_type": "code",
   "execution_count": 5,
   "id": "a0d2b897",
   "metadata": {},
   "outputs": [
    {
     "name": "stdout",
     "output_type": "stream",
     "text": [
      "2\n"
     ]
    }
   ],
   "source": [
    "factorial = int(input(\"Enter a number\"))\n",
    "num=1\n",
    "while(factorial!=0):\n",
    "    num=num * factorial\n",
    "    factorial -= 1\n",
    "print(num)"
   ]
  },
  {
   "cell_type": "markdown",
   "id": "54b99353",
   "metadata": {},
   "source": [
    "Practical Questions\n",
    "-"
   ]
  },
  {
   "cell_type": "markdown",
   "id": "ceab7f93",
   "metadata": {},
   "source": [
    "1. Write a Python program to print \"Hello, World!\" "
   ]
  },
  {
   "cell_type": "code",
   "execution_count": 1,
   "id": "b977d5b9",
   "metadata": {},
   "outputs": [
    {
     "name": "stdout",
     "output_type": "stream",
     "text": [
      "Hello, World!\n"
     ]
    }
   ],
   "source": [
    "print( \"Hello, World!\")"
   ]
  },
  {
   "cell_type": "markdown",
   "id": "65c91be3",
   "metadata": {},
   "source": [
    "2. Write a Python program that displays your name and age."
   ]
  },
  {
   "cell_type": "code",
   "execution_count": 1,
   "id": "2b8e2471",
   "metadata": {},
   "outputs": [
    {
     "name": "stdout",
     "output_type": "stream",
     "text": [
      "My Name is Satyam Kothawade\n",
      "My age is 25\n"
     ]
    }
   ],
   "source": [
    "name='Satyam Kothawade'\n",
    "age='25'\n",
    "print(f'My Name is {name}')\n",
    "print(f'My age is {age}')"
   ]
  },
  {
   "cell_type": "markdown",
   "id": "47ff9adf",
   "metadata": {},
   "source": [
    "3. Write code to print all the pre-defined keywords in Python using the keyword library."
   ]
  },
  {
   "cell_type": "code",
   "execution_count": 2,
   "id": "ea4fc276",
   "metadata": {},
   "outputs": [
    {
     "name": "stdout",
     "output_type": "stream",
     "text": [
      "['False', 'None', 'True', 'and', 'as', 'assert', 'async', 'await', 'break', 'class', 'continue', 'def', 'del', 'elif', 'else', 'except', 'finally', 'for', 'from', 'global', 'if', 'import', 'in', 'is', 'lambda', 'nonlocal', 'not', 'or', 'pass', 'raise', 'return', 'try', 'while', 'with', 'yield']\n"
     ]
    }
   ],
   "source": [
    "import keyword\n",
    "print(keyword.kwlist)"
   ]
  },
  {
   "cell_type": "markdown",
   "id": "45aec5a4",
   "metadata": {},
   "source": [
    "4. Write a program that checks if a given word is a Python keyword."
   ]
  },
  {
   "cell_type": "code",
   "execution_count": 10,
   "id": "5e763192",
   "metadata": {},
   "outputs": [
    {
     "name": "stdout",
     "output_type": "stream",
     "text": [
      "The given word is a Python Keyword\n"
     ]
    }
   ],
   "source": [
    "import keyword\n",
    "a = keyword.kwlist\n",
    "b= input(\"Please Enter a Word\")\n",
    "if(b in a):\n",
    "    print('The given word is a Python Keyword')\n",
    "else:\n",
    "    print('The given word is not a Python Keyword')"
   ]
  },
  {
   "cell_type": "markdown",
   "id": "02ac4812",
   "metadata": {},
   "source": [
    "5. Create a list and tuple in Python, and demonstrate how attempting to change an element works differently\n",
    "for each."
   ]
  },
  {
   "cell_type": "code",
   "execution_count": 10,
   "id": "721bf3d4",
   "metadata": {},
   "outputs": [
    {
     "name": "stdout",
     "output_type": "stream",
     "text": [
      "[1, 2, 3, 4, 5, 6, 7]\n",
      "[1, 2, 250, 4, 5, 6, 7]\n",
      "'tuple' object does not support item assignment\n"
     ]
    }
   ],
   "source": [
    "create_list = [1,2,3,4,5,6,7]\n",
    "print(create_list)\n",
    "\n",
    "create_list[2] =250\n",
    "print(create_list)\n",
    "\n",
    "create_tuple = (1,2,3,4,5,6,7)\n",
    "try:\n",
    "    create_tuple[2] = 250\n",
    "except TypeError as e:\n",
    "    print(e)\n",
    "\n"
   ]
  },
  {
   "cell_type": "markdown",
   "id": "ec689361",
   "metadata": {},
   "source": [
    "6. Write a function to demonstrate the behavior of mutable and immutable arguments."
   ]
  },
  {
   "cell_type": "code",
   "execution_count": 13,
   "id": "0605e62d",
   "metadata": {},
   "outputs": [
    {
     "name": "stdout",
     "output_type": "stream",
     "text": [
      "As list are mutable so we can change the elements [1, 2, 250, 4, 5, 6, 7]\n",
      "(1, 2, 3, 4, 5, 6, 7)\n",
      "As Tuples are Immutable so we cannot change the elements 'tuple' object does not support item assignment\n",
      "Hello World\n",
      "As String are Immutable so cannot be changed'str' object does not support item assignment\n"
     ]
    }
   ],
   "source": [
    "def list_checking(create_list):\n",
    "    create_list[2] =250\n",
    "    print(f'As list are mutable so we can change the elements {create_list}')\n",
    "\n",
    "    create_tuple = (1,2,3,4,5,6,7)\n",
    "    print(create_tuple)\n",
    "    try:\n",
    "        create_tuple[2] = 250\n",
    "    except TypeError as e:\n",
    "        print(f'As Tuples are Immutable so we cannot change the elements {e}')\n",
    "\n",
    "    string = 'Hello World'\n",
    "    print(string)\n",
    "    try:\n",
    "        string[0] = 'M'\n",
    "    except TypeError as e:\n",
    "        print(f'As String are Immutable so cannot be changed{e}')\n",
    "\n",
    "\n",
    "\n",
    "\n",
    "create_list = [1,2,3,4,5,6,7]\n",
    "list_checking(create_list)\n",
    "\n"
   ]
  },
  {
   "cell_type": "markdown",
   "id": "84cdfa20",
   "metadata": {},
   "source": [
    "7. Write a program that performs basic arithmetic operations on two user-input numbers."
   ]
  },
  {
   "cell_type": "code",
   "execution_count": 39,
   "id": "dabaf8fa",
   "metadata": {},
   "outputs": [
    {
     "name": "stdout",
     "output_type": "stream",
     "text": [
      "Addition of two numbers is 5\n",
      "Substraction of two numbers is 1\n",
      "Multiplication of two numbers is 6\n",
      "Division of two numbers is 1.5\n",
      "Modulus of two numbers is 1\n"
     ]
    }
   ],
   "source": [
    "a=int(input(\"Enter First Number: \"))\n",
    "b=int(input(\"Enter Second Number: \"))\n",
    "addition = a+b\n",
    "substraction = a-b\n",
    "division = a/b\n",
    "multiplication = a*b\n",
    "modulus = a%b\n",
    "\n",
    "print(f'Addition of two numbers is {addition}')\n",
    "print(f'Substraction of two numbers is {substraction}')\n",
    "print(f'Multiplication of two numbers is {multiplication}')\n",
    "print(f'Division of two numbers is {division}')\n",
    "print(f'Modulus of two numbers is {modulus}')"
   ]
  },
  {
   "cell_type": "markdown",
   "id": "e47199fa",
   "metadata": {},
   "source": [
    "8. Write a program to demonstrate the use of logical operators."
   ]
  },
  {
   "cell_type": "code",
   "execution_count": 12,
   "id": "a766fc87",
   "metadata": {},
   "outputs": [
    {
     "name": "stdout",
     "output_type": "stream",
     "text": [
      "You are eligible for the Driving License Test.\n"
     ]
    }
   ],
   "source": [
    "age = int(input(\"What is your age?\"))\n",
    "learning_license = input(\"Do you have learning License (Yes/No)?\")\n",
    "if age >= 18 and learning_license == \"Yes\":\n",
    "    print(\"You are eligible for the Driving License Test.\")\n",
    "elif age == 18 and learning_license == \"No\":\n",
    "    print(\"You are eligible for the Learning License Test.\")\n",
    "elif age >= 18 or learning_license == \"Yes\":\n",
    "    print(\"You may be eligible for learning test under special conditions.\")\n",
    "elif age < 18:\n",
    "    print(\"You are under age and not eligible.\")\n",
    "else:\n",
    "    print(\" Please check your input.\")"
   ]
  },
  {
   "cell_type": "markdown",
   "id": "27a2dd2f",
   "metadata": {},
   "source": [
    "9. Write a Python program to convert user input from string to integer, float, and boolean types."
   ]
  },
  {
   "cell_type": "code",
   "execution_count": 4,
   "id": "2bfb04fc",
   "metadata": {},
   "outputs": [
    {
     "name": "stdout",
     "output_type": "stream",
     "text": [
      "20\n",
      "20.0\n",
      "True\n"
     ]
    }
   ],
   "source": [
    "a=input()\n",
    "print(int(a))\n",
    "print(float(a))\n",
    "print(bool(a))"
   ]
  },
  {
   "cell_type": "markdown",
   "id": "469a789b",
   "metadata": {},
   "source": [
    "10. Write code to demonstrate type casting with list elements."
   ]
  },
  {
   "cell_type": "code",
   "execution_count": 37,
   "id": "c4f3a2a6",
   "metadata": {},
   "outputs": [
    {
     "name": "stdout",
     "output_type": "stream",
     "text": [
      "Integer List: [1, 2, 3, 4, 5, 6]\n",
      "String List: ['1', '2', '3', '4', '5', '6']\n",
      "Float List: [1.0, 2.0, 3.0, 4.0, 5.0, 6.0]\n"
     ]
    }
   ],
   "source": [
    "a=['1','2','3','4','5','6']\n",
    "int_a = [int(i) for i in a]\n",
    "str_a = [str(i) for i in int_a]\n",
    "float_a = [float(i) for i in str_a]\n",
    "\n",
    "print(f'Integer List: {int_a}')\n",
    "print(f'String List: {str_a}')\n",
    "print(f'Float List: {float_a}')\n"
   ]
  },
  {
   "cell_type": "markdown",
   "id": "57351f55",
   "metadata": {},
   "source": [
    "11. Write a program that checks if a number is positive, negative, or zero."
   ]
  },
  {
   "cell_type": "code",
   "execution_count": 33,
   "id": "67810d24",
   "metadata": {},
   "outputs": [
    {
     "name": "stdout",
     "output_type": "stream",
     "text": [
      "The number entered is ZERO\n"
     ]
    }
   ],
   "source": [
    "number = float(input(\"Enter a Number\"))\n",
    "if(number>0):\n",
    "    print(\"The number entered is POSITIVE\")\n",
    "elif(number<0):\n",
    "    print(\"The number entered is NEGATIVE\")\n",
    "else:\n",
    "    print(\"The number entered is ZERO\")"
   ]
  },
  {
   "cell_type": "markdown",
   "id": "1fcaf5b2",
   "metadata": {},
   "source": [
    "12. Write a for loop to print numbers from 1 to 10."
   ]
  },
  {
   "cell_type": "code",
   "execution_count": 26,
   "id": "16f4586c",
   "metadata": {},
   "outputs": [
    {
     "name": "stdout",
     "output_type": "stream",
     "text": [
      "1\n",
      "2\n",
      "3\n",
      "4\n",
      "5\n",
      "6\n",
      "7\n",
      "8\n",
      "9\n",
      "10\n"
     ]
    }
   ],
   "source": [
    "for i in range(1,11):\n",
    "    print(i)"
   ]
  },
  {
   "cell_type": "markdown",
   "id": "ff2459e7",
   "metadata": {},
   "source": [
    "13. Write a Python program to find the sum of all even numbers between 1 and 50."
   ]
  },
  {
   "cell_type": "code",
   "execution_count": 25,
   "id": "698c2dad",
   "metadata": {},
   "outputs": [
    {
     "name": "stdout",
     "output_type": "stream",
     "text": [
      "Sum of even numbers from 1 to 50 is: 650\n"
     ]
    }
   ],
   "source": [
    "even=0\n",
    "for i in range(1,51):\n",
    "    if(i%2==0):\n",
    "        even =even+i\n",
    "\n",
    "print(f'Sum of even numbers from 1 to 50 is: {even}')"
   ]
  },
  {
   "cell_type": "markdown",
   "id": "17d3ce55",
   "metadata": {},
   "source": [
    "14. Write a program to reverse a string using a while loop."
   ]
  },
  {
   "cell_type": "code",
   "execution_count": 9,
   "id": "1a73c6ee",
   "metadata": {},
   "outputs": [
    {
     "name": "stdout",
     "output_type": "stream",
     "text": [
      "sI emaN yM\n"
     ]
    }
   ],
   "source": [
    "a=input(\"Enter a string\")\n",
    "b=len(a)\n",
    "c=''\n",
    "while(b):\n",
    "    c =  c + a[b-1] \n",
    "    b-=1\n",
    "print(c)"
   ]
  },
  {
   "cell_type": "markdown",
   "id": "7c6a2377",
   "metadata": {},
   "source": [
    "15. Write a Python program to calculate the factorial of a number provided by the user using a while loop."
   ]
  },
  {
   "cell_type": "code",
   "execution_count": 10,
   "id": "5661ab36",
   "metadata": {},
   "outputs": [
    {
     "name": "stdout",
     "output_type": "stream",
     "text": [
      "Factorial of number is 720\n"
     ]
    }
   ],
   "source": [
    "factorial = int(input(\"Enter a number\"))\n",
    "num=1\n",
    "while(factorial!=0):\n",
    "    num=num * factorial\n",
    "    factorial -= 1\n",
    "print(f'Factorial of number is {num}')\n"
   ]
  }
 ],
 "metadata": {
  "kernelspec": {
   "display_name": "Python 3",
   "language": "python",
   "name": "python3"
  },
  "language_info": {
   "codemirror_mode": {
    "name": "ipython",
    "version": 3
   },
   "file_extension": ".py",
   "mimetype": "text/x-python",
   "name": "python",
   "nbconvert_exporter": "python",
   "pygments_lexer": "ipython3",
   "version": "3.10.0"
  }
 },
 "nbformat": 4,
 "nbformat_minor": 5
}
