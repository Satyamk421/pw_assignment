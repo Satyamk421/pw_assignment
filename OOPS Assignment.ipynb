{
 "cells": [
  {
   "cell_type": "markdown",
   "id": "3a5bd266",
   "metadata": {},
   "source": [
    "Python Questions\n",
    "-"
   ]
  },
  {
   "cell_type": "markdown",
   "id": "eac29243",
   "metadata": {},
   "source": [
    "1] What is Object-Oriented Programming (OOP)?  \n",
    "Ans] Object-Oriented Programming (OOP) is a programming paradigm that organizes code around objects rather than just functions and logic.  \n",
    "Encapsulation  \n",
    "Wrapping data (attributes) and methods (behavior) together inside a class.  \n",
    "Example: A Car class has attributes like color and methods like drive().    \n",
    "\n",
    "Inheritance   \n",
    "One class (child) can get properties and methods from another class (parent).  \n",
    "Example: ElectricCar inherits from Car.  \n",
    "\n",
    "Polymorphism  \n",
    "Same method name can work differently depending on the object.  \n",
    "Example: sound() works differently for Dog and Cat.  \n",
    "\n",
    "Abstraction  \n",
    "Hiding unnecessary details and showing only the essential features.  \n",
    "Example: You use brake() in a car without knowing how it works internally.  "
   ]
  },
  {
   "cell_type": "code",
   "execution_count": 126,
   "id": "6cfa5cf7",
   "metadata": {},
   "outputs": [
    {
     "name": "stdout",
     "output_type": "stream",
     "text": [
      "Red Tesla is driving.\n",
      "Blue BMW is driving.\n"
     ]
    }
   ],
   "source": [
    "class Car:\n",
    "    def __init__(self, brand, color):\n",
    "        self.brand = brand\n",
    "        self.color = color\n",
    "    \n",
    "    def drive(self):\n",
    "        print(f\"{self.color} {self.brand} is driving.\")\n",
    "\n",
    "# Creating objects\n",
    "car1 = Car(\"Tesla\", \"Red\")\n",
    "car2 = Car(\"BMW\", \"Blue\")\n",
    "\n",
    "car1.drive()\n",
    "car2.drive()"
   ]
  },
  {
   "cell_type": "markdown",
   "id": "56604cb0",
   "metadata": {},
   "source": [
    "2] What is a class in OOP?  \n",
    "Ans] A class is a collection of objects. Classes are blueprints for creating objects. A class defines a set of attributes and methods that the created objects (instances) can have.  \n",
    "\n",
    "Classes are created by keyword class.  \n",
    "Attributes are the variables that belong to a class.  \n",
    "Attributes are always public and can be accessed using the dot (.) operator. Example: Myclass.Myattribute  "
   ]
  },
  {
   "cell_type": "code",
   "execution_count": 127,
   "id": "0e0960e9",
   "metadata": {},
   "outputs": [
    {
     "name": "stdout",
     "output_type": "stream",
     "text": [
      "Red Tesla is driving.\n",
      "Blue BMW is driving.\n"
     ]
    }
   ],
   "source": [
    "class Car:\n",
    "    def __init__(self, brand, color):\n",
    "        self.brand = brand\n",
    "        self.color = color\n",
    "    \n",
    "    def drive(self):\n",
    "        print(f\"{self.color} {self.brand} is driving.\")\n",
    "\n",
    "# Creating objects\n",
    "car1 = Car(\"Tesla\", \"Red\")\n",
    "car2 = Car(\"BMW\", \"Blue\")\n",
    "\n",
    "car1.drive()\n",
    "car2.drive()"
   ]
  },
  {
   "cell_type": "markdown",
   "id": "801da0ca",
   "metadata": {},
   "source": [
    "3] What is an object in OOP?  \n",
    "Ans] An Object is an instance of a Class. It represents a specific implementation of the class and holds its own data.  \n",
    "\n",
    "An object consists of:  \n",
    "State: It is represented by the attributes and reflects the properties of an object.  \n",
    "Behavior: It is represented by the methods of an object and reflects the response of an object to other objects.  \n",
    "Identity: It gives a unique name to an object and enables one object to interact with other objects.  "
   ]
  },
  {
   "cell_type": "code",
   "execution_count": 128,
   "id": "27466721",
   "metadata": {},
   "outputs": [
    {
     "name": "stdout",
     "output_type": "stream",
     "text": [
      "Buddy\n",
      "Canine\n"
     ]
    }
   ],
   "source": [
    "class Dog:\n",
    "    species = \"Canine\"  # Class attribute\n",
    "\n",
    "    def __init__(self, name, age):\n",
    "        self.name = name  # Instance attribute\n",
    "        self.age = age  # Instance attribute\n",
    "\n",
    "# Creating an object of the Dog class\n",
    "dog1 = Dog(\"Buddy\", 3)\n",
    "\n",
    "print(dog1.name) \n",
    "print(dog1.species)"
   ]
  },
  {
   "cell_type": "markdown",
   "id": "2bee65fd",
   "metadata": {},
   "source": [
    "4] What is the difference between abstraction and encapsulation?  \n",
    "Ans] Abstraction means showing only what is necessary and hiding how it actually works.  \n",
    "Encapsulation means keeping the data and methods together in one unit and controlling access to the data.  \n",
    "Abstraction is about what something does, while encapsulation is about how the data is kept safe.  \n",
    "Abstraction hides implementation details, encapsulation hides internal data.  \n",
    "You achieve abstraction through abstract classes or interfaces, and encapsulation through access modifiers (like private or protected variables).  \n"
   ]
  },
  {
   "cell_type": "markdown",
   "id": "173bdac5",
   "metadata": {},
   "source": [
    "5] What are dunder methods in Python?  \n",
    "Ans] Dunder methods in Python (short for double underscore methods) are special predefined methods whose names start and end with two underscores (e.g., __init__, __str__, __add__).  \n",
    "They let you customize how objects behave with Python’s built-in functions and operators.  \n",
    "Examples:  \n",
    "__init__ → Runs when you create an object (constructor).  \n",
    "__str__ → Defines how the object is displayed as a string.  \n",
    "__add__ → Lets you use the + operator with your objects.  \n",
    "__len__ → Allows len(obj) to work.  "
   ]
  },
  {
   "cell_type": "code",
   "execution_count": 129,
   "id": "87f2168a",
   "metadata": {},
   "outputs": [
    {
     "name": "stdout",
     "output_type": "stream",
     "text": [
      "My name is Alice\n"
     ]
    }
   ],
   "source": [
    "class Person:\n",
    "    def __init__(self, name):\n",
    "        self.name = name\n",
    "    \n",
    "    def __str__(self):\n",
    "        return f\"My name is {self.name}\"\n",
    "\n",
    "p = Person(\"Alice\")\n",
    "print(p)"
   ]
  },
  {
   "cell_type": "markdown",
   "id": "c12aa5b4",
   "metadata": {},
   "source": [
    "6] Explain the concept of inheritance in OOP?  \n",
    "Ans] Inheritance in OOP is a concept where one class (child or derived class) can acquire properties and methods from another class (parent or base class).  \n",
    "It allows code reuse, extensibility, and makes programs easier to maintain.  "
   ]
  },
  {
   "cell_type": "code",
   "execution_count": 130,
   "id": "b8860ae8",
   "metadata": {},
   "outputs": [
    {
     "name": "stdout",
     "output_type": "stream",
     "text": [
      "Woof! Woof!\n"
     ]
    }
   ],
   "source": [
    "class Animal:  # Parent class\n",
    "    def speak(self):\n",
    "        print(\"This animal makes a sound.\")\n",
    "\n",
    "class Dog(Animal):  # Child class\n",
    "    def speak(self):\n",
    "        print(\"Woof! Woof!\")\n",
    "\n",
    "dog = Dog()\n",
    "dog.speak()"
   ]
  },
  {
   "cell_type": "markdown",
   "id": "fa457b1a",
   "metadata": {},
   "source": [
    "7] What is polymorphism in OOP?  \n",
    "Ans] Polymorphism in OOP means \"one name, many forms\" — the same method or function name can behave differently depending on the object that calls it.  \n",
    "It allows different classes to define methods with the same name but different implementations, so the correct version runs based on the object type.  "
   ]
  },
  {
   "cell_type": "code",
   "execution_count": 131,
   "id": "5aaaa113",
   "metadata": {},
   "outputs": [
    {
     "name": "stdout",
     "output_type": "stream",
     "text": [
      "Woof! Woof!\n",
      "Meow!\n"
     ]
    }
   ],
   "source": [
    "class Animal:\n",
    "    def speak(self):\n",
    "        print(\"Some generic animal sound\")\n",
    "\n",
    "class Dog(Animal):\n",
    "    def speak(self):\n",
    "        print(\"Woof! Woof!\")\n",
    "\n",
    "class Cat(Animal):\n",
    "    def speak(self):\n",
    "        print(\"Meow!\")\n",
    "\n",
    "# Same method name, different behavior\n",
    "animals = [Dog(), Cat()]\n",
    "for animal in animals:\n",
    "    animal.speak()"
   ]
  },
  {
   "cell_type": "markdown",
   "id": "e2b531d0",
   "metadata": {},
   "source": [
    "8] How is encapsulation achieved in Python?  \n",
    "Ans]  Encapsulation in Python is achieved by restricting direct access to an object’s internal data and providing controlled access through methods or properties.  \n",
    "\n",
    "Public Members  \n",
    "Accessible from anywhere.  \n",
    "Default in Python."
   ]
  },
  {
   "cell_type": "code",
   "execution_count": 132,
   "id": "2a323de0",
   "metadata": {},
   "outputs": [
    {
     "name": "stdout",
     "output_type": "stream",
     "text": [
      "Tesla\n"
     ]
    }
   ],
   "source": [
    "class Car:\n",
    "    def __init__(self, brand):\n",
    "        self.brand = brand  # Public\n",
    "\n",
    "car = Car(\"Tesla\")\n",
    "print(car.brand)"
   ]
  },
  {
   "cell_type": "markdown",
   "id": "3c0eaac6",
   "metadata": {},
   "source": [
    "Protected Members  \n",
    "Indicated by a single underscore _ before the name.  \n",
    "Meant for internal use, but still accessible (just a convention)."
   ]
  },
  {
   "cell_type": "code",
   "execution_count": 133,
   "id": "f5e7fc0e",
   "metadata": {},
   "outputs": [
    {
     "name": "stdout",
     "output_type": "stream",
     "text": [
      "Tesla\n"
     ]
    }
   ],
   "source": [
    "class Car:\n",
    "    def __init__(self, brand):\n",
    "        self._brand = brand  # Protected\n",
    "\n",
    "car = Car(\"Tesla\")\n",
    "print(car._brand)"
   ]
  },
  {
   "cell_type": "markdown",
   "id": "2c8f002f",
   "metadata": {},
   "source": [
    "Private Members  \n",
    "Indicated by double underscore __ before the name.  \n",
    "Name mangling makes them harder to access directly."
   ]
  },
  {
   "cell_type": "code",
   "execution_count": 134,
   "id": "a0613fdf",
   "metadata": {},
   "outputs": [
    {
     "name": "stdout",
     "output_type": "stream",
     "text": [
      "Tesla\n"
     ]
    }
   ],
   "source": [
    "class Car:\n",
    "    def __init__(self, brand):\n",
    "        self.__brand = brand  # Private\n",
    "\n",
    "    def get_brand(self):  # Public getter\n",
    "        return self.__brand\n",
    "\n",
    "car = Car(\"Tesla\")\n",
    "print(car.get_brand())"
   ]
  },
  {
   "cell_type": "markdown",
   "id": "cb01ece0",
   "metadata": {},
   "source": [
    "9] What is a constructor in Python?  \n",
    "Ans] In Python, a constructor is a special method called __init__() that automatically runs when an object is created from a class.  \n",
    "It’s used to initialize (set up) the object’s attributes with given values."
   ]
  },
  {
   "cell_type": "code",
   "execution_count": 136,
   "id": "ad817c91",
   "metadata": {},
   "outputs": [
    {
     "name": "stdout",
     "output_type": "stream",
     "text": [
      "Name: Satyam, Age: 25\n"
     ]
    }
   ],
   "source": [
    "class Person:\n",
    "    def __init__(self, name, age):  \n",
    "        self.name = name\n",
    "        self.age = age\n",
    "\n",
    "    def display(self):\n",
    "        print(f\"Name: {self.name}, Age: {self.age}\")\n",
    "\n",
    "p1 = Person(\"Satyam\", 25)\n",
    "p1.display()"
   ]
  },
  {
   "cell_type": "markdown",
   "id": "4c1f4441",
   "metadata": {},
   "source": [
    "10] What are class and static methods in Python?  \n",
    "Ans] In Python, class methods and static methods are two special types of methods that change how they work compared to normal instance methods.  \n",
    "\n",
    "Class Method (@classmethod)  \n",
    "Works on the class itself, not on an individual object.  \n",
    "Takes cls as the first parameter (refers to the class).  \n",
    "Can access and modify class variables but not instance variables directly.  \n",
    "Defined using the @classmethod decorator."
   ]
  },
  {
   "cell_type": "code",
   "execution_count": 138,
   "id": "6964f83c",
   "metadata": {},
   "outputs": [
    {
     "name": "stdout",
     "output_type": "stream",
     "text": [
      "ABC\n"
     ]
    }
   ],
   "source": [
    "class Employee:\n",
    "    company_name = \"TechCorp\"\n",
    "\n",
    "    @classmethod\n",
    "    def change_company(cls, new_name):\n",
    "        cls.company_name = new_name\n",
    "\n",
    "Employee.change_company(\"ABC\")\n",
    "print(Employee.company_name)"
   ]
  },
  {
   "cell_type": "markdown",
   "id": "f8d6ff49",
   "metadata": {},
   "source": [
    "Static Method (@staticmethod)  \n",
    "Does not take self or cls as the first parameter.  \n",
    "Cannot directly access or modify class or instance variables.  \n",
    "Works like a regular function but lives inside a class (for logical grouping).  \n",
    "Defined using the @staticmethod decorator.  "
   ]
  },
  {
   "cell_type": "code",
   "execution_count": 139,
   "id": "28d55bdc",
   "metadata": {},
   "outputs": [
    {
     "name": "stdout",
     "output_type": "stream",
     "text": [
      "8\n"
     ]
    }
   ],
   "source": [
    "class MathOperations:\n",
    "    @staticmethod\n",
    "    def add(a, b):\n",
    "        return a + b\n",
    "\n",
    "print(MathOperations.add(5, 3))"
   ]
  },
  {
   "cell_type": "markdown",
   "id": "616f3001",
   "metadata": {},
   "source": [
    "11] What is method overloading in Python?  \n",
    "Ans] Method Overloading means having multiple methods with the same name but different parameter lists (different number or types of arguments).  \n",
    "If you define multiple methods with the same name in a class, the last definition overrides the previous ones.  \n",
    "To achieve something like overloading, Python uses default arguments or *args / **kwargs to handle different numbers/types of parameters in a single method.  \n"
   ]
  },
  {
   "cell_type": "code",
   "execution_count": 140,
   "id": "401dd79f",
   "metadata": {},
   "outputs": [
    {
     "name": "stdout",
     "output_type": "stream",
     "text": [
      "Hello!\n",
      "Hello, Alice!\n"
     ]
    }
   ],
   "source": [
    "class Example:\n",
    "    def greet(self, name=None):\n",
    "        if name:\n",
    "            print(f\"Hello, {name}!\")\n",
    "        else:\n",
    "            print(\"Hello!\")\n",
    "\n",
    "obj = Example()\n",
    "obj.greet()         \n",
    "obj.greet(\"Alice\")"
   ]
  },
  {
   "cell_type": "markdown",
   "id": "968de93c",
   "metadata": {},
   "source": [
    "12] What is method overriding in OOP?  \n",
    "Ans] Method overriding happens when a child class provides its own implementation of a method that is already defined in its parent class.\n",
    "The method in the child class has the same name, same parameters, and same return type (conceptually) as in the parent class.  \n"
   ]
  },
  {
   "cell_type": "code",
   "execution_count": 141,
   "id": "6b336fa1",
   "metadata": {},
   "outputs": [
    {
     "name": "stdout",
     "output_type": "stream",
     "text": [
      "Some generic animal sound\n",
      "Bark! Bark!\n"
     ]
    }
   ],
   "source": [
    "class Animal:\n",
    "    def sound(self):\n",
    "        print(\"Some generic animal sound\")\n",
    "\n",
    "class Dog(Animal):\n",
    "    def sound(self):  \n",
    "        print(\"Bark! Bark!\")\n",
    "\n",
    "a = Animal()\n",
    "a.sound()  \n",
    "\n",
    "d = Dog()\n",
    "d.sound()"
   ]
  },
  {
   "cell_type": "markdown",
   "id": "f56ff324",
   "metadata": {},
   "source": [
    "13] What is a property decorator in Python?  \n",
    "Ans] The @property decorator in Python is a built-in way to make a method act like an attribute.\n",
    "It allows you to define getters, setters, and deleters for a class attribute without changing how it’s accessed.  "
   ]
  },
  {
   "cell_type": "code",
   "execution_count": 142,
   "id": "e0c9d9cc",
   "metadata": {},
   "outputs": [
    {
     "name": "stdout",
     "output_type": "stream",
     "text": [
      "5\n",
      "78.5\n"
     ]
    }
   ],
   "source": [
    "class Circle:\n",
    "    def __init__(self, radius):\n",
    "        self._radius = radius  \n",
    "\n",
    "    @property\n",
    "    def radius(self):\n",
    "        return self._radius\n",
    "\n",
    "    @property\n",
    "    def area(self):\n",
    "        return 3.14 * (self._radius ** 2)  \n",
    "\n",
    "c = Circle(5)\n",
    "print(c.radius) \n",
    "print(c.area)"
   ]
  },
  {
   "cell_type": "markdown",
   "id": "2435d5ef",
   "metadata": {},
   "source": [
    "14] Why is polymorphism important in OOP?  \n",
    "Ans] Polymorphism is important in OOP because it allows the same method or interface to work with objects of different types, making programs more flexible, maintainable, and scalable.  \n",
    "Code Reusability – One function can handle multiple object types without rewriting logic.  \n",
    "Flexibility – You can add new classes that fit into existing code without changing that code.  \n",
    "Cleaner Code – Eliminates large if/else checks for object types.  \n",
    "Extensibility – Supports the Open/Closed Principle (open for extension, closed for modification).  "
   ]
  },
  {
   "cell_type": "code",
   "execution_count": 143,
   "id": "178eddf0",
   "metadata": {},
   "outputs": [
    {
     "name": "stdout",
     "output_type": "stream",
     "text": [
      "Woof\n",
      "Meow\n"
     ]
    }
   ],
   "source": [
    "class Animal:\n",
    "    def sound(self):\n",
    "        pass\n",
    "\n",
    "class Dog(Animal):\n",
    "    def sound(self):\n",
    "        return \"Woof\"\n",
    "\n",
    "class Cat(Animal):\n",
    "    def sound(self):\n",
    "        return \"Meow\"\n",
    "\n",
    "def make_sound(animal):\n",
    "    print(animal.sound())\n",
    "\n",
    "make_sound(Dog())  \n",
    "make_sound(Cat())  "
   ]
  },
  {
   "cell_type": "markdown",
   "id": "2d3f0418",
   "metadata": {},
   "source": [
    "15] What is an abstract class in Python?  \n",
    "Ans] An abstract class in Python is a class that cannot be instantiated directly and is meant to be inherited by other classes.  \n",
    "It can define abstract methods (methods without an implementation) that must be implemented by its subclasses.  \n",
    "In Python, abstract classes are created using the abc module (ABC and @abstractmethod).  "
   ]
  },
  {
   "cell_type": "code",
   "execution_count": 144,
   "id": "c5f0de00",
   "metadata": {},
   "outputs": [
    {
     "name": "stdout",
     "output_type": "stream",
     "text": [
      "Woof\n"
     ]
    }
   ],
   "source": [
    "from abc import ABC, abstractmethod\n",
    "\n",
    "class Animal(ABC):\n",
    "    @abstractmethod\n",
    "    def sound(self):\n",
    "        pass\n",
    "\n",
    "class Dog(Animal):\n",
    "    def sound(self):\n",
    "        return \"Woof\"\n",
    "\n",
    "dog = Dog()          \n",
    "print(dog.sound())"
   ]
  },
  {
   "cell_type": "markdown",
   "id": "2c6fbd3f",
   "metadata": {},
   "source": [
    "16] What are the advantages of OOP?  \n",
    "Ans] Advantages of Object-Oriented Programming (OOP):  \n",
    "Modularity – Code is organized into classes and objects, making it easier to manage and understand.  \n",
    "Reusability – Once a class is written, it can be reused in different programs without rewriting it.  \n",
    "Scalability – Large projects can be built and expanded more easily by adding new classes or features.  \n",
    "Maintainability – Changes in one part of the program have minimal impact on others, thanks to encapsulation.  \n",
    "Abstraction – Hides unnecessary details and shows only the essential features to the user.  \n",
    "Encapsulation – Protects data by restricting direct access and using methods for interaction.  \n",
    "Inheritance – Allows new classes to be created from existing ones, reducing code duplication.  \n",
    "Polymorphism – Same interface can be used for different data types or classes, improving flexibility.   "
   ]
  },
  {
   "cell_type": "markdown",
   "id": "bf95c67d",
   "metadata": {},
   "source": [
    "17] What is the difference between a class variable and an instance variable?  \n",
    "Ans] Class Variable – Shared by all objects of the class. Changing it in one place affects all instances (unless overridden).  \n",
    "Instance Variable – Unique to each object. Changing it in one object does not affect others.  \n"
   ]
  },
  {
   "cell_type": "code",
   "execution_count": 145,
   "id": "9170baff",
   "metadata": {},
   "outputs": [
    {
     "name": "stdout",
     "output_type": "stream",
     "text": [
      "4 Red\n",
      "4 Blue\n"
     ]
    }
   ],
   "source": [
    "class Car:\n",
    "    wheels = 4  \n",
    "\n",
    "    def __init__(self, color):\n",
    "        self.color = color  \n",
    "\n",
    "car1 = Car(\"Red\")\n",
    "car2 = Car(\"Blue\")\n",
    "\n",
    "print(car1.wheels, car1.color)  \n",
    "print(car2.wheels, car2.color)"
   ]
  },
  {
   "cell_type": "markdown",
   "id": "5b374b61",
   "metadata": {},
   "source": [
    "18] What is multiple inheritance in Python?  \n",
    "Ans] Multiple inheritance in Python means a class can inherit from more than one parent class at the same time.  \n",
    "This allows the child class to access attributes and methods from all its parent classes.  "
   ]
  },
  {
   "cell_type": "code",
   "execution_count": 146,
   "id": "36546e72",
   "metadata": {},
   "outputs": [
    {
     "name": "stdout",
     "output_type": "stream",
     "text": [
      "Gardening, Driving\n",
      "Cooking, Painting\n"
     ]
    }
   ],
   "source": [
    "class Father:\n",
    "    def skills(self):\n",
    "        print(\"Gardening, Driving\")\n",
    "\n",
    "class Mother:\n",
    "    def talents(self):\n",
    "        print(\"Cooking, Painting\")\n",
    "\n",
    "class Child(Father, Mother):\n",
    "    pass\n",
    "\n",
    "c = Child()\n",
    "c.skills()   \n",
    "c.talents()  "
   ]
  },
  {
   "cell_type": "markdown",
   "id": "29ffef58",
   "metadata": {},
   "source": [
    "19] Explain the purpose of ‘’__str__’ and ‘__repr__’ ‘ methods in Python?  \n",
    "Ans] In Python, both __str__ and __repr__ are dunder methods (double underscore methods) used to define how objects are represented as strings — but they serve different purposes.  \n",
    "\n",
    "1. __str__ (User-Friendly String)  \n",
    "Purpose: To provide a readable, human-friendly description of the object.  \n",
    "Target audience: End users.  \n",
    "Called when:  \n",
    "You use print(object)  \n",
    "You call str(object)  "
   ]
  },
  {
   "cell_type": "code",
   "execution_count": 147,
   "id": "17ee26b4",
   "metadata": {},
   "outputs": [
    {
     "name": "stdout",
     "output_type": "stream",
     "text": [
      "'Harry Potter' by J.K. Rowling\n"
     ]
    }
   ],
   "source": [
    "class Book:\n",
    "    def __init__(self, title, author):\n",
    "        self.title = title\n",
    "        self.author = author\n",
    "    \n",
    "    def __str__(self):\n",
    "        return f\"'{self.title}' by {self.author}\"\n",
    "\n",
    "b = Book(\"Harry Potter\", \"J.K. Rowling\")\n",
    "print(b)"
   ]
  },
  {
   "cell_type": "markdown",
   "id": "e3a6c331",
   "metadata": {},
   "source": [
    "2. __repr__ (Developer-Friendly String)  \n",
    "Purpose: To provide an unambiguous, technical string representation of the object (often valid Python code to recreate the object).  \n",
    "Target audience: Developers (for debugging and logging).  \n",
    "Called when:  \n",
    "You type the object name in the Python shell  \n",
    "You call repr(object)  "
   ]
  },
  {
   "cell_type": "code",
   "execution_count": 148,
   "id": "0af80e76",
   "metadata": {},
   "outputs": [
    {
     "name": "stdout",
     "output_type": "stream",
     "text": [
      "Book('Harry Potter', 'J.K. Rowling')\n"
     ]
    }
   ],
   "source": [
    "class Book:\n",
    "    def __init__(self, title, author):\n",
    "        self.title = title\n",
    "        self.author = author\n",
    "    \n",
    "    def __repr__(self):\n",
    "        return f\"Book('{self.title}', '{self.author}')\"\n",
    "\n",
    "b = Book(\"Harry Potter\", \"J.K. Rowling\")\n",
    "print(repr(b))"
   ]
  },
  {
   "cell_type": "markdown",
   "id": "d15c7abd",
   "metadata": {},
   "source": [
    "20] What is the significance of the ‘super()’ function in Python?  \n",
    "Ans] In Python, super() is used in object-oriented programming to call a method from a parent (super) class inside a child class.  \n",
    "Calls parent class methods without naming the parent explicitly  \n",
    "This makes code easier to maintain, especially if the parent class name changes.  \n",
    "\n",
    "Supports multiple inheritance  \n",
    "In multiple inheritance, super() follows the method resolution order (MRO) to call the next class in line without hardcoding the class name.  \n",
    "\n",
    "Avoids code duplication  \n",
    "You can reuse the parent class’s logic instead of rewriting it in the child class.  \n",
    "\n",
    "Makes the code cleaner and more maintainable  \n",
    "Encourages better OOP design.  \n"
   ]
  },
  {
   "cell_type": "code",
   "execution_count": 149,
   "id": "dc4872c0",
   "metadata": {},
   "outputs": [
    {
     "name": "stdout",
     "output_type": "stream",
     "text": [
      "Parent initialized with name: Alice\n",
      "Child initialized with age: 12\n"
     ]
    }
   ],
   "source": [
    "class Parent:\n",
    "    def __init__(self, name):\n",
    "        self.name = name\n",
    "        print(f\"Parent initialized with name: {self.name}\")\n",
    "\n",
    "class Child(Parent):\n",
    "    def __init__(self, name, age):\n",
    "        super().__init__(name)  # Calls Parent's __init__()\n",
    "        self.age = age\n",
    "        print(f\"Child initialized with age: {self.age}\")\n",
    "\n",
    "# Usage\n",
    "c = Child(\"Alice\", 12)"
   ]
  },
  {
   "cell_type": "markdown",
   "id": "c9d3fee7",
   "metadata": {},
   "source": [
    "21] What is the significance of the __del__ method in Python?  \n",
    "Ans] Cleanup before object deletion  \n",
    "You can use it to release resources such as file handles, network connections, or database links before the object is destroyed.  \n",
    "\n",
    "Part of Python’s object lifecycle  \n",
    "It’s the last method called before the object’s memory is freed.  \n",
    "\n",
    "Useful for managing external resources  \n",
    "Especially for tasks where you need to ensure proper cleanup without relying solely on with statements."
   ]
  },
  {
   "cell_type": "code",
   "execution_count": 150,
   "id": "05c10c72",
   "metadata": {},
   "outputs": [
    {
     "name": "stdout",
     "output_type": "stream",
     "text": [
      "File opened.\n",
      "Destructor called, file closed.\n"
     ]
    }
   ],
   "source": [
    "class FileHandler:\n",
    "    def __init__(self, filename):\n",
    "        self.file = open(filename, \"w\")\n",
    "        print(\"File opened.\")\n",
    "\n",
    "    def write_data(self, data):\n",
    "        self.file.write(data)\n",
    "\n",
    "    def __del__(self):\n",
    "        print(\"Destructor called, file closed.\")\n",
    "        self.file.close()\n",
    "\n",
    "# Usage\n",
    "f = FileHandler(\"test.txt\")\n",
    "f.write_data(\"Hello World!\")\n",
    "del f"
   ]
  },
  {
   "cell_type": "markdown",
   "id": "e65755dd",
   "metadata": {},
   "source": [
    "22] What is the difference between @staticmethod and @classmethod in Python?  \n",
    "Ans]   \n",
    "@staticmethod  \n",
    "Belongs to the class, but does not take any reference to the class (cls) or object (self) as its first parameter.  \n",
    "Works like a normal function inside a class — it cannot access or modify class or instance variables unless explicitly passed.  \n",
    "Used when the method’s logic is related to the class but does not depend on class or instance data.  "
   ]
  },
  {
   "cell_type": "code",
   "execution_count": 151,
   "id": "7e1f74a2",
   "metadata": {},
   "outputs": [
    {
     "name": "stdout",
     "output_type": "stream",
     "text": [
      "8\n"
     ]
    }
   ],
   "source": [
    "class MathUtils:\n",
    "    @staticmethod\n",
    "    def add(a, b):\n",
    "        return a + b\n",
    "\n",
    "print(MathUtils.add(5, 3))"
   ]
  },
  {
   "cell_type": "markdown",
   "id": "07e7f8c9",
   "metadata": {},
   "source": [
    "@classmethod  \n",
    "Belongs to the class and takes the class (cls) as its first parameter.  \n",
    "Can access and modify class variables but cannot directly access instance variables.  \n",
    "Often used for factory methods that create objects in different ways.  "
   ]
  },
  {
   "cell_type": "code",
   "execution_count": 152,
   "id": "6ac97459",
   "metadata": {},
   "outputs": [
    {
     "name": "stdout",
     "output_type": "stream",
     "text": [
      "Alice, Age: 25\n"
     ]
    }
   ],
   "source": [
    "class Person:\n",
    "    species = \"Human\"\n",
    "\n",
    "    def __init__(self, name):\n",
    "        self.name = name\n",
    "\n",
    "    @classmethod\n",
    "    def from_birth_year(cls, name, year):\n",
    "        age = 2025 - year\n",
    "        return cls(f\"{name}, Age: {age}\")\n",
    "\n",
    "p = Person.from_birth_year(\"Alice\", 2000)\n",
    "print(p.name)"
   ]
  },
  {
   "cell_type": "markdown",
   "id": "91487fca",
   "metadata": {},
   "source": [
    "23]  How does polymorphism work in Python with inheritance?  \n",
    "Ans] In Python, polymorphism with inheritance means that a child class can provide its own different implementation of a method that exists in its parent class, and when you call that method on an object, Python automatically uses the correct version depending on the object’s type  \n"
   ]
  },
  {
   "cell_type": "code",
   "execution_count": 153,
   "id": "005384ab",
   "metadata": {},
   "outputs": [
    {
     "name": "stdout",
     "output_type": "stream",
     "text": [
      "Woof!\n",
      "Meow!\n",
      "Some generic sound\n"
     ]
    }
   ],
   "source": [
    "class Animal:\n",
    "    def speak(self):\n",
    "        return \"Some generic sound\"\n",
    "\n",
    "class Dog(Animal):\n",
    "    def speak(self):\n",
    "        return \"Woof!\"\n",
    "\n",
    "class Cat(Animal):\n",
    "    def speak(self):\n",
    "        return \"Meow!\"\n",
    "\n",
    "animals = [Dog(), Cat(), Animal()]\n",
    "\n",
    "for animal in animals:\n",
    "    print(animal.speak())"
   ]
  },
  {
   "cell_type": "markdown",
   "id": "14793dc3",
   "metadata": {},
   "source": [
    "24] What is method chaining in Python OOP?  \n",
    "Ans] Method chaining in Python OOP is a programming style where you call multiple methods on the same object in a single line, one after another, because each method returns the object itself (self)."
   ]
  },
  {
   "cell_type": "code",
   "execution_count": 155,
   "id": "b1576139",
   "metadata": {},
   "outputs": [
    {
     "name": "stdout",
     "output_type": "stream",
     "text": [
      "Name: Alice, Age: 25, City: New York\n"
     ]
    }
   ],
   "source": [
    "class Person:\n",
    "    def __init__(self, name):\n",
    "        self.name = name\n",
    "        self.age = None\n",
    "        self.city = None\n",
    "\n",
    "    def set_age(self, age):\n",
    "        self.age = age\n",
    "        return self  \n",
    "\n",
    "    def set_city(self, city):\n",
    "        self.city = city\n",
    "        return self \n",
    "\n",
    "    def display_info(self):\n",
    "        print(f\"Name: {self.name}, Age: {self.age}, City: {self.city}\")\n",
    "        return self \n",
    "    \n",
    "person = Person(\"Alice\").set_age(25).set_city(\"New York\").display_info()\n"
   ]
  },
  {
   "cell_type": "markdown",
   "id": "bf0908bf",
   "metadata": {},
   "source": [
    "25] What is the purpose of the __call__ method in Python?  \n",
    "Ans] The __call__ method in Python lets an instance of a class be called like a function.  \n",
    "In other words, if you define __call__ inside your class, you can use object_name() syntax instead of calling a separate method.  "
   ]
  },
  {
   "cell_type": "code",
   "execution_count": 156,
   "id": "a84fd36a",
   "metadata": {},
   "outputs": [
    {
     "name": "stdout",
     "output_type": "stream",
     "text": [
      "Hello, Alice!\n",
      "Hello, Bob!\n"
     ]
    }
   ],
   "source": [
    "class Greeter:\n",
    "    def __init__(self, greeting):\n",
    "        self.greeting = greeting\n",
    "\n",
    "    def __call__(self, name):\n",
    "        return f\"{self.greeting}, {name}!\"\n",
    "\n",
    "hello = Greeter(\"Hello\")\n",
    "\n",
    "print(hello(\"Alice\"))  \n",
    "print(hello(\"Bob\"))"
   ]
  },
  {
   "cell_type": "markdown",
   "id": "819a1029",
   "metadata": {},
   "source": [
    "Practical Questions\n",
    "-"
   ]
  },
  {
   "cell_type": "markdown",
   "id": "2771d284",
   "metadata": {},
   "source": [
    "1] Create a parent class Animal with a method speak() that prints a generic message. Create a child class Dog\n",
    "that overrides the speak() method to print \"Bark!\""
   ]
  },
  {
   "cell_type": "code",
   "execution_count": 3,
   "id": "f993427f",
   "metadata": {},
   "outputs": [
    {
     "name": "stdout",
     "output_type": "stream",
     "text": [
      "The Dog Barks\n",
      "What\n"
     ]
    }
   ],
   "source": [
    "class Animal():\n",
    "    def speak(self):\n",
    "        print('The Dog Barks')\n",
    "\n",
    "class Dog(Animal):\n",
    "\n",
    "    def speak(self):\n",
    "        print(\"What\")\n",
    "\n",
    "animal = Animal()\n",
    "animal.speak()\n",
    "\n",
    "dog = Dog()\n",
    "dog.speak()\n"
   ]
  },
  {
   "cell_type": "markdown",
   "id": "e06128dc",
   "metadata": {},
   "source": [
    "2] Write a program to create an abstract class Shape with a method area(). Derive classes Circle and Rectangle\n",
    "from it and implement the area() method in both."
   ]
  },
  {
   "cell_type": "code",
   "execution_count": 23,
   "id": "96d29dc2",
   "metadata": {},
   "outputs": [
    {
     "name": "stdout",
     "output_type": "stream",
     "text": [
      "Area of Rectangle: 24\n",
      "Area of Rectangle: 12.566370614359172\n"
     ]
    }
   ],
   "source": [
    "from abc import ABC, abstractmethod\n",
    "import math\n",
    "\n",
    "\n",
    "class Shape(ABC):\n",
    "    @abstractmethod\n",
    "    def area(self):\n",
    "        pass\n",
    "\n",
    "class Rectangle(Shape):\n",
    "    def __init__(self, length,breadth):\n",
    "        self.length = length\n",
    "        self.breadth=breadth\n",
    "    def area(self):\n",
    "        return self.length*self.breadth\n",
    "    \n",
    "    class Circle(Shape):\n",
    "        def __init__(self, radius):\n",
    "            self.radius=radius\n",
    "        def area(self):\n",
    "            return 2 * math.pi *self.redius *self.radius\n",
    "\n",
    "    \n",
    "r = Rectangle(4, 6)\n",
    "print(f\"Area of Rectangle: {r.area()}\")\n",
    "\n",
    "r = Circle(2)\n",
    "print(f\"Area of Rectangle: {r.area()}\")"
   ]
  },
  {
   "cell_type": "markdown",
   "id": "0b48337f",
   "metadata": {},
   "source": [
    "3]  Implement a multi-level inheritance scenario where a class Vehicle has an attribute type. Derive a class Car\n",
    "and further derive a class ElectricCar that adds a battery attribute."
   ]
  },
  {
   "cell_type": "code",
   "execution_count": 7,
   "id": "8192567f",
   "metadata": {},
   "outputs": [
    {
     "name": "stdout",
     "output_type": "stream",
     "text": [
      "car\n",
      "lithium\n"
     ]
    }
   ],
   "source": [
    "class Vehicle:\n",
    "    def __init__(self,type):\n",
    "        self.type=type\n",
    "class Car(Vehicle):\n",
    "    def __init__(self,type):\n",
    "        super().__init__(type)\n",
    "class ElectricCar(Car):\n",
    "    def __init__(self,type,battery):\n",
    "        super().__init__(type)\n",
    "        self.battery=battery\n",
    "    \n",
    "a= ElectricCar('car','lithium')\n",
    "print(a.type)\n",
    "print(a.battery)\n"
   ]
  },
  {
   "cell_type": "markdown",
   "id": "1cd891f2",
   "metadata": {},
   "source": [
    "4.  Demonstrate polymorphism by creating a base class Bird with a method fly(). Create two derived classes\n",
    "Sparrow and Penguin that override the fly() method.\n"
   ]
  },
  {
   "cell_type": "code",
   "execution_count": 8,
   "id": "e2fd68a2",
   "metadata": {},
   "outputs": [
    {
     "name": "stdout",
     "output_type": "stream",
     "text": [
      "Sparrow can fly\n",
      "Pengiun cannot fly\n"
     ]
    }
   ],
   "source": [
    "class Bird:\n",
    "    def fly(self):\n",
    "        print('All birds can fly')\n",
    "class Sparrow(Bird):\n",
    "    def fly(self):\n",
    "        print('Sparrow can fly')\n",
    "class Pengiun(Bird):\n",
    "    def fly(self):\n",
    "        print(\"Pengiun cannot fly\")\n",
    "\n",
    "sparrow = Sparrow()\n",
    "sparrow.fly()\n",
    "\n",
    "pengiun = Pengiun()\n",
    "pengiun.fly()\n"
   ]
  },
  {
   "cell_type": "markdown",
   "id": "fc64410f",
   "metadata": {},
   "source": [
    "5] Write a program to demonstrate encapsulation by creating a class BankAccount with private attributes\n",
    "balance and methods to deposit, withdraw, and check balance."
   ]
  },
  {
   "cell_type": "code",
   "execution_count": 37,
   "id": "ce72ca47",
   "metadata": {},
   "outputs": [
    {
     "name": "stdout",
     "output_type": "stream",
     "text": [
      "Money Deposited Successfully Your balance is 11000\n",
      "Insufficient Balance\n",
      "10000\n"
     ]
    }
   ],
   "source": [
    "class BankAccount:\n",
    "    def __init__(self,balance):\n",
    "        self.__balance=balance\n",
    "    def deposit(self,money_deposit):\n",
    "        if(money_deposit>0):\n",
    "            self.__balance=self.__balance+money_deposit\n",
    "            print(f'Money Deposited Successfully Your balance is {self.__balance}')\n",
    "        else:\n",
    "            print('Entered wrong value')\n",
    "    def withdraw(self,money_withdraw):\n",
    "        if(money_withdraw<self.__balance):\n",
    "            self.__balance=self.__balance-money_withdraw\n",
    "            print(f'Money Withdrawn Successfully Your balance is {self.__balance}')\n",
    "        else:\n",
    "            print('Insufficient Balance')\n",
    "    def check_balance(self):\n",
    "        print(self.__balance)\n",
    "\n",
    "a=BankAccount(10000)\n",
    "a.deposit(1000)    \n",
    "\n",
    "b=BankAccount(10000)\n",
    "b.withdraw(200000)\n",
    "\n",
    "\n",
    "c=BankAccount(10000)\n",
    "c.check_balance()\n"
   ]
  },
  {
   "cell_type": "markdown",
   "id": "9b5871c2",
   "metadata": {},
   "source": [
    "6] Demonstrate runtime polymorphism using a method play() in a base class Instrument. Derive classes Guitar\n",
    "and Piano that implement their own version of play()."
   ]
  },
  {
   "cell_type": "code",
   "execution_count": 27,
   "id": "5b98dc91",
   "metadata": {},
   "outputs": [
    {
     "name": "stdout",
     "output_type": "stream",
     "text": [
      "Simple Play a Guitar\n",
      "Simple Play a Piano\n"
     ]
    }
   ],
   "source": [
    "class Instrument:\n",
    "    def play(self):\n",
    "        print('Simple Play a Instrument')\n",
    "\n",
    "class Guitar(Instrument):\n",
    "    def play(self):\n",
    "        print('Simple Play a Guitar')\n",
    "\n",
    "class Piano(Instrument):\n",
    "    def play(self):\n",
    "        print('Simple Play a Piano')\n",
    "\n",
    "instruments = [Guitar(), Piano()]\n",
    "for i in instruments:\n",
    "    i.play()\n",
    "\n",
    "\n"
   ]
  },
  {
   "cell_type": "markdown",
   "id": "f614a827",
   "metadata": {},
   "source": [
    "7] Create a class MathOperations with a class method add_numbers() to add two numbers and a static\n",
    "method subtract_numbers() to subtract two numbers."
   ]
  },
  {
   "cell_type": "code",
   "execution_count": 43,
   "id": "4e7440f0",
   "metadata": {},
   "outputs": [
    {
     "name": "stdout",
     "output_type": "stream",
     "text": [
      "6\n",
      "-1\n"
     ]
    }
   ],
   "source": [
    "class MathOperation:\n",
    "    \n",
    "    @classmethod\n",
    "    def add_numbers(cls,a,b):\n",
    "        return a+b\n",
    "    \n",
    "    @staticmethod\n",
    "    def subtract_numbers(a,b):\n",
    "        return a-b\n",
    "    \n",
    "print(MathOperation.add_numbers(2,4))\n",
    "print(MathOperation.subtract_numbers(2,3))"
   ]
  },
  {
   "cell_type": "markdown",
   "id": "0c469bba",
   "metadata": {},
   "source": [
    "8]  Implement a class Person with a class method to count the total number of persons created."
   ]
  },
  {
   "cell_type": "code",
   "execution_count": 62,
   "id": "75c32a74",
   "metadata": {},
   "outputs": [
    {
     "name": "stdout",
     "output_type": "stream",
     "text": [
      "['S', 'a', 't', 'y', 'a', 'm']\n",
      "The total number of persons created are 6\n"
     ]
    }
   ],
   "source": [
    "class Person:\n",
    "    count=0\n",
    "\n",
    "    def __init__(self,name):\n",
    "        self.name=name\n",
    "        Person.count +=1\n",
    "\n",
    "    @classmethod\n",
    "    def count_persons(cls):\n",
    "        return cls.count\n",
    "a='Satyam'\n",
    "lst=[]\n",
    "for i in a:\n",
    "    lst.append(i)\n",
    "print(lst)\n",
    "\n",
    "for j in lst:\n",
    "    Person(j)\n",
    "\n",
    "print(f'The total number of persons created are {Person.count_persons()}')"
   ]
  },
  {
   "cell_type": "markdown",
   "id": "b0c2d2cf",
   "metadata": {},
   "source": [
    "9] Write a class Fraction with attributes numerator and denominator. Override the str method to display the\n",
    "fraction as \"numerator/denominator\"."
   ]
  },
  {
   "cell_type": "code",
   "execution_count": 67,
   "id": "45c4acec",
   "metadata": {},
   "outputs": [
    {
     "name": "stdout",
     "output_type": "stream",
     "text": [
      "3/2\n"
     ]
    }
   ],
   "source": [
    "class Fraction:\n",
    "    def __init__(self,numerator,denominator):\n",
    "        self.numerator=numerator\n",
    "        self.denominator=denominator\n",
    "    \n",
    "    def __str__(self):\n",
    "        return f'{self.numerator}/{self.denominator}'\n",
    "\n",
    "a=Fraction(3,2)\n",
    "print(a)\n",
    "    \n",
    "    "
   ]
  },
  {
   "cell_type": "markdown",
   "id": "3eb17c8f",
   "metadata": {},
   "source": [
    "10]  Demonstrate operator overloading by creating a class Vector and overriding the add method to add two\n",
    "vectors"
   ]
  },
  {
   "cell_type": "code",
   "execution_count": 76,
   "id": "2881e886",
   "metadata": {},
   "outputs": [
    {
     "name": "stdout",
     "output_type": "stream",
     "text": [
      "Vector 1: (1, 2)\n",
      "Vector 2: (3, 4)\n",
      "Sum of vectors: (4, 6)\n"
     ]
    }
   ],
   "source": [
    "class Vector:\n",
    "    def __init__(self,a,b):\n",
    "        self.a=a\n",
    "        self.b=b\n",
    "    \n",
    "    def __add__(self,other):\n",
    "        return Vector(self.a + other.a, self.b + other.b)\n",
    "    \n",
    "    def __str__(self):\n",
    "        return f\"({self.a}, {self.b})\"\n",
    "    \n",
    "v1 = Vector(1, 2)\n",
    "v2 = Vector(3, 4)\n",
    "v3=v1 + v2\n",
    "\n",
    "print(\"Vector 1:\", v1)\n",
    "print(\"Vector 2:\", v2)\n",
    "print(\"Sum of vectors:\", v3)\n",
    "\n"
   ]
  },
  {
   "cell_type": "markdown",
   "id": "19c91548",
   "metadata": {},
   "source": [
    "11] Create a class Person with attributes name and age. Add a method greet() that prints \"Hello, my name is\n",
    "{name} and I am {age} years old."
   ]
  },
  {
   "cell_type": "code",
   "execution_count": 80,
   "id": "e9a2a8c5",
   "metadata": {},
   "outputs": [
    {
     "name": "stdout",
     "output_type": "stream",
     "text": [
      "Hello, my name is Satyam and I am 25 years old\n"
     ]
    }
   ],
   "source": [
    "class Person:\n",
    "    def __init__(self,name,age):\n",
    "        self.name=name\n",
    "        self.age=age\n",
    "    \n",
    "    def greet(self):\n",
    "        return f'Hello, my name is {self.name} and I am {self.age} years old'\n",
    "\n",
    "a=Person('Satyam',25)\n",
    "print(a.greet())"
   ]
  },
  {
   "cell_type": "markdown",
   "id": "782090ea",
   "metadata": {},
   "source": [
    "12] Implement a class Student with attributes name and grades. Create a method average_grade() to compute\n",
    "the average of the grades."
   ]
  },
  {
   "cell_type": "code",
   "execution_count": 90,
   "id": "609deaf4",
   "metadata": {},
   "outputs": [
    {
     "data": {
      "text/plain": [
       "30.0"
      ]
     },
     "execution_count": 90,
     "metadata": {},
     "output_type": "execute_result"
    }
   ],
   "source": [
    "class Student:\n",
    "    count=0\n",
    "    def __init__(self,name,grades):\n",
    "        self.name=name\n",
    "        self.grades=grades\n",
    "        Student.count=0\n",
    "    def average_grade(self):\n",
    "        if(len(self.grades)==0):\n",
    "            return 0\n",
    "        else:\n",
    "            return sum(self.grades)/len(self.grades)\n",
    "a=Student('SATYAM',[10,20,30,40,50])      \n",
    "a.average_grade()\n"
   ]
  },
  {
   "cell_type": "markdown",
   "id": "ff173d84",
   "metadata": {},
   "source": [
    "13]  Create a class Rectangle with methods set_dimensions() to set the dimensions and area() to calculate the\n",
    "area"
   ]
  },
  {
   "cell_type": "code",
   "execution_count": 91,
   "id": "b49c804c",
   "metadata": {},
   "outputs": [
    {
     "name": "stdout",
     "output_type": "stream",
     "text": [
      "Area of the rectangle is 200\n"
     ]
    }
   ],
   "source": [
    "class Rectangle:\n",
    "    def __init__(self):\n",
    "        self.length=0\n",
    "        self.breadth=0\n",
    "\n",
    "    def set_dimensions(self,length,breadth):\n",
    "        self.length=length\n",
    "        self.breadth=breadth\n",
    "\n",
    "    def area(self):\n",
    "        return self.length*self.breadth\n",
    "    \n",
    "a=Rectangle()\n",
    "a.set_dimensions(10,20)\n",
    "print(f'Area of the rectangle is {a.area()}')"
   ]
  },
  {
   "cell_type": "markdown",
   "id": "33520469",
   "metadata": {},
   "source": [
    "14] Create a class Employee with a method calculate_salary() that computes the salary based on hours worked\n",
    "and hourly rate. Create a derived class Manager that adds a bonus to the salary"
   ]
  },
  {
   "cell_type": "code",
   "execution_count": 102,
   "id": "f9939116",
   "metadata": {},
   "outputs": [
    {
     "name": "stdout",
     "output_type": "stream",
     "text": [
      "800\n",
      "1700\n"
     ]
    }
   ],
   "source": [
    "class Employee:\n",
    "    def __init__(self,hours_worked,hourly_rate):\n",
    "        self.hours_worked=hours_worked\n",
    "        self.hourly_rate=hourly_rate\n",
    "\n",
    "    def calculate_salary(self):\n",
    "        return self.hours_worked*self.hourly_rate\n",
    "\n",
    "class Manager(Employee):\n",
    "    def __init__(self,hours_worked,hourly_rate,bonus):\n",
    "        self.bonus=bonus\n",
    "        super().__init__(hours_worked,hourly_rate)\n",
    "\n",
    "    \n",
    "    def Bonus(self):\n",
    "        return  self.bonus + super().calculate_salary()\n",
    "\n",
    "emp = Employee( 40, 20)      # 40 hrs × $20\n",
    "mgr = Manager(40, 30, 500) \n",
    "print(emp.calculate_salary())\n",
    "print(mgr.Bonus())\n"
   ]
  },
  {
   "cell_type": "markdown",
   "id": "f83d8126",
   "metadata": {},
   "source": [
    "15] Create a class Product with attributes name, price, and quantity. Implement a method total_price() that\n",
    "calculates the total price of the product"
   ]
  },
  {
   "cell_type": "code",
   "execution_count": 103,
   "id": "de49b59a",
   "metadata": {},
   "outputs": [
    {
     "data": {
      "text/plain": [
       "2000"
      ]
     },
     "execution_count": 103,
     "metadata": {},
     "output_type": "execute_result"
    }
   ],
   "source": [
    "class Product:\n",
    "    def __init__(self,name,price,quantity):\n",
    "        self.name=name\n",
    "        self.price=price\n",
    "        self.quantity=quantity\n",
    "\n",
    "    def total_price(self):\n",
    "        return self.price*self.quantity\n",
    "    \n",
    "a=Product('apple',10,200)\n",
    "a.total_price()"
   ]
  },
  {
   "cell_type": "markdown",
   "id": "2055470d",
   "metadata": {},
   "source": [
    "16] Create a class Animal with an abstract method sound(). Create two derived classes Cow and Sheep that\n",
    "implement the sound() method."
   ]
  },
  {
   "cell_type": "code",
   "execution_count": 113,
   "id": "7e6d52c4",
   "metadata": {},
   "outputs": [
    {
     "name": "stdout",
     "output_type": "stream",
     "text": [
      "Sound of a Cow\n",
      "Sound of a Sheep\n"
     ]
    }
   ],
   "source": [
    "from abc import ABC, abstractmethod\n",
    "\n",
    "class Animal(ABC):\n",
    "    @abstractmethod\n",
    "    def sound(self):\n",
    "        pass\n",
    "\n",
    "class Cow(Animal):\n",
    "    def sound(self):\n",
    "        print('Sound of a Cow')\n",
    "\n",
    "\n",
    "class Sheep(Animal):\n",
    "    def sound(self):\n",
    "        print('Sound of a Sheep')\n",
    "\n",
    "a=Cow()\n",
    "b=Sheep()\n",
    "\n",
    "a.sound()\n",
    "b.sound()"
   ]
  },
  {
   "cell_type": "markdown",
   "id": "535d5f93",
   "metadata": {},
   "source": [
    "17]  Create a class Book with attributes title, author, and year_published. Add a method get_book_info() that\n",
    "returns a formatted string with the book's details."
   ]
  },
  {
   "cell_type": "code",
   "execution_count": 116,
   "id": "c5731cef",
   "metadata": {},
   "outputs": [
    {
     "data": {
      "text/plain": [
       "\"The name of the book is Harry Potter and the auther's name is J.K. Rowling and is published in 2000\""
      ]
     },
     "execution_count": 116,
     "metadata": {},
     "output_type": "execute_result"
    }
   ],
   "source": [
    "class Book:\n",
    "    def __init__(self,title,author,year_published):\n",
    "        self.title=title\n",
    "        self.author=author\n",
    "        self.year_published=year_published\n",
    "\n",
    "    def get_book_info(self):\n",
    "        return f\"The name of the book is {self.title} and the auther's name is {self.author} and is published in {self.year_published}\"\n",
    "\n",
    "a=Book('Harry Potter','J.K. Rowling','2000')\n",
    "a.get_book_info()"
   ]
  },
  {
   "cell_type": "markdown",
   "id": "f80e4c6f",
   "metadata": {},
   "source": [
    "18]  Create a class House with attributes address and price. Create a derived class Mansion that adds an\n",
    "attribute number_of_rooms."
   ]
  },
  {
   "cell_type": "code",
   "execution_count": 125,
   "id": "1116b93b",
   "metadata": {},
   "outputs": [
    {
     "name": "stdout",
     "output_type": "stream",
     "text": [
      "Address is ABC and price of the house is 500000\n",
      "Address is CDE and price of the house is  2000000 and number of rooms is 10\n"
     ]
    }
   ],
   "source": [
    "class House:\n",
    "    def __init__(self,address,price):\n",
    "        self.address=address\n",
    "        self.price = price\n",
    "\n",
    "class Mansion(House):\n",
    "    def __init__(self,address,price,number_of_rooms):\n",
    "        super().__init__(address,price)\n",
    "        self.number_of_rooms =number_of_rooms\n",
    "\n",
    "\n",
    "house1 = House(\"ABC\", 500000)\n",
    "mansion1 = Mansion(\"CDE\", 2000000, 10)\n",
    "\n",
    "print(f'Address is {house1.address} and price of the house is {house1.price}')\n",
    "print(f'Address is {mansion1.address} and price of the house is  {mansion1.price} and number of rooms is {mansion1.number_of_rooms}')"
   ]
  }
 ],
 "metadata": {
  "kernelspec": {
   "display_name": "Python 3",
   "language": "python",
   "name": "python3"
  },
  "language_info": {
   "codemirror_mode": {
    "name": "ipython",
    "version": 3
   },
   "file_extension": ".py",
   "mimetype": "text/x-python",
   "name": "python",
   "nbconvert_exporter": "python",
   "pygments_lexer": "ipython3",
   "version": "3.10.0"
  }
 },
 "nbformat": 4,
 "nbformat_minor": 5
}
