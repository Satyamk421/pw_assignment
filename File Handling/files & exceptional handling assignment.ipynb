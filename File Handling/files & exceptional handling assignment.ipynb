{
 "cells": [
  {
   "cell_type": "markdown",
   "id": "c98e23a3",
   "metadata": {},
   "source": [
    "Python Questions\n",
    "-"
   ]
  },
  {
   "cell_type": "markdown",
   "id": "1a42522c",
   "metadata": {},
   "source": [
    "1] What is the difference between interpreted and compiled languages?  \n",
    "Ans]  \n",
    "Compiled Languages:-  \n",
    "The source code is translated into machine code (binary) by a compiler before execution.\n",
    "This machine code is stored in an executable file and run directly by the CPU.  \n",
    "Examples: C, C++, Go, Rust.  \n",
    "Characteristics:-  \n",
    "Faster execution  \n",
    "Good for performance-critical applications  \n",
    "\n",
    "Interpreted Languages  \n",
    "The source code is read and executed line by line at runtime by an interpreter.\n",
    "There is no separate executable file (usually)  \n",
    "Examples: Python, JavaScript, Ruby, PHP.\n",
    "Characteristics:-   \n",
    "Easier to test and debug.  \n",
    "Portable (interpreter handles platform differences)"
   ]
  },
  {
   "cell_type": "markdown",
   "id": "e632acc1",
   "metadata": {},
   "source": [
    "2] What is exception handling in Python?  \n",
    "Ans] Exception handling in Python is a mechanism to gracefully handle runtime errors so that the program doesn’t crash unexpectedly. Instead of stopping abruptly, Python allows you to catch errors, respond to them, and continue execution.  \n",
    "An exception is an error that occurs during program execution.  \n",
    "Examples:  \n",
    "ZeroDivisionError → dividing by zero  \n",
    "ValueError → invalid type conversion, e.g., int(\"abc\")  \n",
    "FileNotFoundError → trying to open a non-existent file  "
   ]
  },
  {
   "cell_type": "code",
   "execution_count": 7,
   "id": "c81a8bc5",
   "metadata": {},
   "outputs": [
    {
     "name": "stdout",
     "output_type": "stream",
     "text": [
      "Cannot divide by zero!\n"
     ]
    }
   ],
   "source": [
    "try:\n",
    "    num = int(input(\"Enter a number: \"))\n",
    "    result = 10 / num\n",
    "    print(result)\n",
    "except ZeroDivisionError:\n",
    "    print(\"Cannot divide by zero!\")\n",
    "except ValueError:\n",
    "    print(\"Invalid input! Please enter a number.\")"
   ]
  },
  {
   "cell_type": "markdown",
   "id": "ce59e27b",
   "metadata": {},
   "source": [
    "3] What is the purpose of the finally block in exception handling?  \n",
    "Ans] The finally block in Python’s exception handling is used to execute code that must run no matter what happens, whether an exception occurs or not.  \n",
    "Always executed – even if there is a return statement in try or except.  \n",
    "Common uses – releasing resources like files, network connections, or database connections.  \n"
   ]
  },
  {
   "cell_type": "code",
   "execution_count": 8,
   "id": "5bd18198",
   "metadata": {},
   "outputs": [
    {
     "name": "stdout",
     "output_type": "stream",
     "text": [
      "Cannot divide by zero!\n",
      "This block always executes.\n"
     ]
    }
   ],
   "source": [
    "try:\n",
    "    num = int(input(\"Enter a number: \"))\n",
    "    result = 10 / num\n",
    "except ZeroDivisionError:\n",
    "    print(\"Cannot divide by zero!\")\n",
    "finally:\n",
    "    print(\"This block always executes.\")"
   ]
  },
  {
   "cell_type": "markdown",
   "id": "59d86d8c",
   "metadata": {},
   "source": [
    "4] What is logging in Python?  \n",
    "Ans] Logging in Python is a way to record messages that describe the execution of a program, especially useful for debugging, monitoring, and tracking events in an application. Unlike printing to the console, logging can be saved to files, sent to external systems, and filtered by severity levels.  \n",
    "Debugging: Track errors and program flow.  \n",
    "Monitoring: Record events in production without stopping the program.  \n",
    "Auditing: Keep a record of operations and actions.  \n",
    "Flexible output: Can log to console, file, or even over a network.  "
   ]
  },
  {
   "cell_type": "code",
   "execution_count": 9,
   "id": "92963dd5",
   "metadata": {},
   "outputs": [
    {
     "name": "stderr",
     "output_type": "stream",
     "text": [
      "2025-08-14 19:59:07,660 - INFO - Program started\n",
      "2025-08-14 19:59:07,667 - WARNING - This is a warning\n",
      "2025-08-14 19:59:07,672 - ERROR - An error occurred\n",
      "2025-08-14 19:59:07,677 - CRITICAL - Critical issue!\n"
     ]
    }
   ],
   "source": [
    "import logging\n",
    "\n",
    "logging.basicConfig(level=logging.INFO, \n",
    "                    format='%(asctime)s - %(levelname)s - %(message)s')\n",
    "\n",
    "logging.debug(\"This is a debug message\")    \n",
    "logging.info(\"Program started\")             \n",
    "logging.warning(\"This is a warning\")        \n",
    "logging.error(\"An error occurred\")          \n",
    "logging.critical(\"Critical issue!\")        "
   ]
  },
  {
   "cell_type": "markdown",
   "id": "7a68937b",
   "metadata": {},
   "source": [
    "5] What is the significance of the __del__ method in Python?  \n",
    "Ans] The __del__ method in Python is called a destructor. Its significance is that it allows you to define cleanup actions when an object is about to be destroyed, typically when it is garbage collected.  \n",
    "Automatic Cleanup:\n",
    "Python automatically deletes objects when there are no references to them. The __del__ method is invoked just before that object is removed from memory.  \n",
    "Resource Management:  \n",
    "It is often used to release external resources, like:  \n",
    "Closing files  \n",
    "Closing network connections  \n",
    "Releasing locks  "
   ]
  },
  {
   "cell_type": "code",
   "execution_count": 10,
   "id": "b2697bf7",
   "metadata": {},
   "outputs": [
    {
     "name": "stdout",
     "output_type": "stream",
     "text": [
      "TestObject created\n"
     ]
    }
   ],
   "source": [
    "class MyClass:\n",
    "    def __init__(self, name):\n",
    "        self.name = name\n",
    "        print(f\"{self.name} created\")\n",
    "\n",
    "    def __del__(self):\n",
    "        print(f\"{self.name} destroyed\")\n",
    "\n",
    "obj = MyClass(\"TestObject\")"
   ]
  },
  {
   "cell_type": "markdown",
   "id": "3273244f",
   "metadata": {},
   "source": [
    "6]  What is the difference between import and from ... import in Python?  \n",
    "Ans] In Python, both import and from ... import are used to bring modules or specific objects into your program, but they work differently.  \n",
    "import module  \n",
    "Imports the entire module.  \n",
    "To access functions, classes, or variables, you prefix them with the module name.  \n",
    "\n",
    "from module import something  \n",
    "Imports only specific functions, classes, or variables from a module.  \n",
    "You can use them directly without the module prefix.  "
   ]
  },
  {
   "cell_type": "code",
   "execution_count": 11,
   "id": "aa9666a8",
   "metadata": {},
   "outputs": [
    {
     "name": "stdout",
     "output_type": "stream",
     "text": [
      "4.0\n",
      "3.141592653589793\n"
     ]
    }
   ],
   "source": [
    "import math\n",
    "\n",
    "print(math.sqrt(16))  \n",
    "print(math.pi) "
   ]
  },
  {
   "cell_type": "code",
   "execution_count": 12,
   "id": "1c0eb5e1",
   "metadata": {},
   "outputs": [
    {
     "name": "stdout",
     "output_type": "stream",
     "text": [
      "4.0\n",
      "3.141592653589793\n"
     ]
    }
   ],
   "source": [
    "from math import sqrt, pi\n",
    "\n",
    "print(sqrt(16))  \n",
    "print(pi)"
   ]
  },
  {
   "cell_type": "markdown",
   "id": "783a143d",
   "metadata": {},
   "source": [
    "7]  How can you handle multiple exceptions in Python?  \n",
    "Ans] In Python, you can handle multiple exceptions in several ways depending on your needs. \n",
    "1. Using Multiple except Blocks\n",
    "2. Handling Multiple Exceptions in a Single except Block\n",
    "3. Using else and finally with Multiple Exceptions "
   ]
  },
  {
   "cell_type": "code",
   "execution_count": 13,
   "id": "02a335d2",
   "metadata": {},
   "outputs": [
    {
     "name": "stdout",
     "output_type": "stream",
     "text": [
      "Cannot divide by zero!\n"
     ]
    }
   ],
   "source": [
    "try:\n",
    "    num = int(input(\"Enter a number: \"))\n",
    "    result = 10 / num\n",
    "except ZeroDivisionError:\n",
    "    print(\"Cannot divide by zero!\")\n",
    "except ValueError:\n",
    "    print(\"Invalid input! Please enter a number.\")"
   ]
  },
  {
   "cell_type": "code",
   "execution_count": 14,
   "id": "68fed6aa",
   "metadata": {},
   "outputs": [
    {
     "name": "stdout",
     "output_type": "stream",
     "text": [
      "An error occurred: division by zero\n"
     ]
    }
   ],
   "source": [
    "try:\n",
    "    num = int(input(\"Enter a number: \"))\n",
    "    result = 10 / num\n",
    "except (ZeroDivisionError, ValueError) as e:\n",
    "    print(f\"An error occurred: {e}\")"
   ]
  },
  {
   "cell_type": "code",
   "execution_count": 15,
   "id": "7319e4ec",
   "metadata": {},
   "outputs": [
    {
     "name": "stdout",
     "output_type": "stream",
     "text": [
      "Error: division by zero\n",
      "Execution completed.\n"
     ]
    }
   ],
   "source": [
    "try:\n",
    "    num = int(input(\"Enter a number: \"))\n",
    "    result = 10 / num\n",
    "except (ZeroDivisionError, ValueError) as e:\n",
    "    print(f\"Error: {e}\")\n",
    "else:\n",
    "    print(f\"Result is {result}\")\n",
    "finally:\n",
    "    print(\"Execution completed.\")"
   ]
  },
  {
   "cell_type": "markdown",
   "id": "101e19b9",
   "metadata": {},
   "source": [
    "8] What is the purpose of the with statement when handling files in Python?  \n",
    "Ans] The with statement in Python is used for resource management, especially when working with files. Its main purpose is to ensure that resources are properly acquired and released, even if an error occurs during processing.\n"
   ]
  },
  {
   "cell_type": "code",
   "execution_count": 1,
   "id": "979bd726",
   "metadata": {},
   "outputs": [
    {
     "name": "stdout",
     "output_type": "stream",
     "text": [
      "1\n",
      "2\n",
      "3\n",
      "4\n",
      "5\n",
      "10\n",
      "20\n",
      "\n"
     ]
    }
   ],
   "source": [
    "with open(\"numbers.txt\", \"r\") as file:\n",
    "    data = file.read()\n",
    "    print(data)"
   ]
  },
  {
   "cell_type": "markdown",
   "id": "eea7bac5",
   "metadata": {},
   "source": [
    "9]  What is the difference between multithreading and multiprocessing?  \n",
    "Ans]  \n",
    "1. Multithreading  \n",
    "Definition: Running multiple threads (smaller units of a process) within the same process.  \n",
    "Memory: Threads share the same memory space.  \n",
    "Use Case: Best for I/O-bound tasks (e.g., reading/writing files, network operations).  \n",
    "Python Limitation: Due to the Global Interpreter Lock (GIL), only one thread executes Python bytecode at a time, so CPU-bound tasks may not see real speedup.  "
   ]
  },
  {
   "cell_type": "code",
   "execution_count": 18,
   "id": "f1ddb15c",
   "metadata": {},
   "outputs": [
    {
     "name": "stdout",
     "output_type": "stream",
     "text": [
      "0\n",
      "1\n",
      "2\n",
      "3\n",
      "4\n"
     ]
    }
   ],
   "source": [
    "import threading\n",
    "\n",
    "def print_numbers():\n",
    "    for i in range(5):\n",
    "        print(i)\n",
    "\n",
    "thread = threading.Thread(target=print_numbers)\n",
    "thread.start()\n",
    "thread.join()"
   ]
  },
  {
   "cell_type": "markdown",
   "id": "2058652e",
   "metadata": {},
   "source": [
    "2. Multiprocessing  \n",
    "Definition: Running multiple processes (independent programs) in parallel, each with its own Python interpreter and memory space.  \n",
    "Memory: Processes do not share memory by default.  \n",
    "Use Case: Best for CPU-bound tasks (e.g., heavy computations, data processing).  \n",
    "Python Advantage: Not affected by GIL; multiple processes can truly run in parallel.  "
   ]
  },
  {
   "cell_type": "code",
   "execution_count": 19,
   "id": "5e51e107",
   "metadata": {},
   "outputs": [],
   "source": [
    "from multiprocessing import Process\n",
    "\n",
    "def print_numbers():\n",
    "    for i in range(5):\n",
    "        print(i)\n",
    "\n",
    "process = Process(target=print_numbers)\n",
    "process.start()\n",
    "process.join()"
   ]
  },
  {
   "cell_type": "markdown",
   "id": "332e61ef",
   "metadata": {},
   "source": [
    "10] What are the advantages of using logging in a program?  \n",
    "Ans] Using logging in a program provides several advantages over simply using print statements. It is a robust way to record information about a program’s execution for debugging, monitoring, and maintenance.  \n",
    "\n",
    "Persistent Records  \n",
    "Logs can be saved to files for future reference.  \n",
    "Useful for troubleshooting issues after the program has run.  \n",
    "\n",
    "Different Severity Levels  \n",
    "Python logging supports levels like: DEBUG, INFO, WARNING, ERROR, CRITICAL.  \n",
    "Helps filter messages based on importance.  \n",
    "\n",
    "Flexible Output  \n",
    "Logs can be directed to console, files, or external systems.  \n",
    "Supports multiple handlers for different destinations simultaneously.  \n",
    "\n",
    "Structured and Informative  \n",
    "Log messages can include timestamp, module name, line number, making it easier to trace issues.  \n",
    "\n",
    "Better than Print Statements  \n",
    "print() is temporary and often removed after debugging.  \n",
    "Logging is persistent, configurable, and safer for production code. \n",
    "\n",
    "Helps in Debugging and Monitoring  \n",
    "Shows the flow of execution, errors, and unexpected behavior.  \n",
    "Useful in production environments where print statements are not feasible.  \n",
    "\n",
    "Centralized Control  \n",
    "You can enable/disable logging, change levels, and redirect outputs without modifying the code logic.  "
   ]
  },
  {
   "cell_type": "code",
   "execution_count": 20,
   "id": "1c1d2258",
   "metadata": {},
   "outputs": [
    {
     "name": "stderr",
     "output_type": "stream",
     "text": [
      "2025-08-14 20:12:41,686 - INFO - Program started\n",
      "2025-08-14 20:12:41,689 - WARNING - This is a warning\n",
      "2025-08-14 20:12:41,693 - ERROR - An error occurred\n"
     ]
    }
   ],
   "source": [
    "import logging\n",
    "\n",
    "logging.basicConfig(filename='app.log', level=logging.INFO,\n",
    "                    format='%(asctime)s - %(levelname)s - %(message)s')\n",
    "\n",
    "logging.info(\"Program started\")\n",
    "logging.warning(\"This is a warning\")\n",
    "logging.error(\"An error occurred\")"
   ]
  },
  {
   "cell_type": "markdown",
   "id": "f75ee4c6",
   "metadata": {},
   "source": [
    "11] What is memory management in Python?  \n",
    "Ans] Memory management in Python refers to the process by which Python allocates, tracks, and frees memory used by objects in a program. It ensures that memory is used efficiently and prevents leaks. Python handles most of this automatically, unlike languages like C or C++ where you manage memory manually.  "
   ]
  },
  {
   "cell_type": "markdown",
   "id": "28062e0e",
   "metadata": {},
   "source": [
    "12] What are the basic steps involved in exception handling in Python?  \n",
    "Ans] In Python, exception handling allows you to gracefully manage runtime errors and prevent your program from crashing. The basic steps involve using the try, except, else, and finally blocks.  \n",
    "\n",
    "try Block  \n",
    "Write the code that might raise an exception inside the try block.  \n",
    "Python monitors this block for errors.  \n",
    "\n",
    "except Block  \n",
    "Handles specific exceptions that occur in the try block.  \n",
    "You can catch specific exceptions or all exceptions.  \n",
    "\n",
    "else Block  \n",
    "Executes only if no exception occurs in the try block.  \n",
    "Useful for code that should run when everything goes smoothly.  \n",
    "\n",
    "finally Block  \n",
    "Executes no matter what, whether an exception occurs or not.  \n",
    "Typically used for cleanup tasks, like closing files or releasing resources.  "
   ]
  },
  {
   "cell_type": "code",
   "execution_count": 22,
   "id": "2af46bc2",
   "metadata": {},
   "outputs": [
    {
     "name": "stdout",
     "output_type": "stream",
     "text": [
      "Error: division by zero\n",
      "Program execution finished.\n"
     ]
    }
   ],
   "source": [
    "try:\n",
    "    num = int(input(\"Enter a number: \"))\n",
    "    result = 10 / num\n",
    "except (ZeroDivisionError, ValueError) as e:\n",
    "    print(f\"Error: {e}\")\n",
    "else:\n",
    "    print(f\"Result is {result}\")\n",
    "finally:\n",
    "    print(\"Program execution finished.\")"
   ]
  },
  {
   "cell_type": "markdown",
   "id": "46c5bbde",
   "metadata": {},
   "source": [
    "13] Why is memory management important in Python?  \n",
    "Ans] Memory management is important in Python because it ensures that your program uses system memory efficiently, safely, and reliably.  \n",
    "Memory management in Python ensures that programs run efficiently, safely, and reliably, without consuming unnecessary resources or causing crashes.  \n",
    "Prevents Memory Leaks  \n",
    "Optimizes Performance  \n",
    "Supports Dynamic Typing  \n",
    "Handles Garbage Collection  \n",
    "Enables Resource Management  \n",
    "Improves Stability"
   ]
  },
  {
   "cell_type": "markdown",
   "id": "29110705",
   "metadata": {},
   "source": [
    "14] What is the role of try and except in exception handling?  \n",
    "Ans] In Python, the try and except blocks are the core of exception handling. They allow your program to catch and handle errors gracefully instead of crashing.  \n",
    "try → attempt the code that may fail  \n",
    "except → handle the failure gracefully and prevent program crash  "
   ]
  },
  {
   "cell_type": "code",
   "execution_count": 1,
   "id": "7bba4082",
   "metadata": {},
   "outputs": [
    {
     "name": "stdout",
     "output_type": "stream",
     "text": [
      "Cannot divide by zero!\n",
      "Execution completed.\n"
     ]
    }
   ],
   "source": [
    "try:\n",
    "    num = int(input(\"Enter a number: \"))\n",
    "    result = 10 / num\n",
    "except ZeroDivisionError:\n",
    "    print(\"Cannot divide by zero!\")\n",
    "except ValueError:\n",
    "    print(\"Invalid input!\")\n",
    "else:\n",
    "    print(f\"Result is {result}\")\n",
    "finally:\n",
    "    print(\"Execution completed.\")"
   ]
  },
  {
   "cell_type": "markdown",
   "id": "232c80d0",
   "metadata": {},
   "source": [
    "15]  How does Python's garbage collection system work?  \n",
    "Ans] Python’s garbage collection (GC) system is responsible for automatically managing memory by reclaiming memory occupied by objects that are no longer in use. This ensures efficient memory usage and prevents memory leaks.  \n",
    "Reference Counting  \n",
    "Core mechanism: Each object in Python keeps a reference count, which is the number of references pointing to it.  \n",
    "When an object’s reference count drops to zero, it means no part of the program is using it, so Python automatically deallocates its memory.  \n",
    "\n",
    "Handling Circular References  \n",
    "Reference counting alone cannot handle circular references (e.g., objects referencing each other).  \n",
    "\n",
    "The gc Module  \n",
    "Python provides the gc module to interact with the garbage collector.  \n",
    "\n"
   ]
  },
  {
   "cell_type": "markdown",
   "id": "730a5630",
   "metadata": {},
   "source": [
    "16] What is the purpose of the else block in exception handling?  \n",
    "Ans] In Python’s exception handling, the else block is an optional block that runs only if no exception occurs in the preceding try block. Its purpose is to separate normal execution code from error-handling code, making programs clearer and easier to maintain."
   ]
  },
  {
   "cell_type": "code",
   "execution_count": 2,
   "id": "916f6a9f",
   "metadata": {},
   "outputs": [
    {
     "name": "stdout",
     "output_type": "stream",
     "text": [
      "Invalid input!\n",
      "Execution completed.\n"
     ]
    }
   ],
   "source": [
    "try:\n",
    "    num = int(input(\"Enter a number: \"))\n",
    "    result = 10 / num\n",
    "except ZeroDivisionError:\n",
    "    print(\"Cannot divide by zero!\")\n",
    "except ValueError:\n",
    "    print(\"Invalid input!\")\n",
    "else:\n",
    "    print(f\"Result is {result}\") \n",
    "finally:\n",
    "    print(\"Execution completed.\")"
   ]
  },
  {
   "cell_type": "markdown",
   "id": "aa4831c2",
   "metadata": {},
   "source": [
    "17] What are the common logging levels in Python?  \n",
    "Ans] In Python, the logging module provides a way to record messages at different severity levels. These levels help you categorize log messages based on importance, making it easier to filter and analyze logs.  \n",
    "DEBUG (10): Detailed information for debugging purposes.  \n",
    "INFO (20): General information about program execution.  \n",
    "WARNING (30): Indicates a potential problem or unexpected situation.  \n",
    "ERROR (40): Signifies a serious issue that prevents part of the program from working.  \n",
    "CRITICAL (50): Represents very serious errors that may stop the program entirely.  "
   ]
  },
  {
   "cell_type": "code",
   "execution_count": 3,
   "id": "a853a08d",
   "metadata": {},
   "outputs": [
    {
     "name": "stderr",
     "output_type": "stream",
     "text": [
      "DEBUG: Debugging details\n",
      "INFO: Program started\n",
      "WARNING: This is a warning\n",
      "ERROR: An error occurred\n",
      "CRITICAL: Critical issue!\n"
     ]
    }
   ],
   "source": [
    "import logging\n",
    "\n",
    "logging.basicConfig(level=logging.DEBUG, format='%(levelname)s: %(message)s')\n",
    "\n",
    "logging.debug(\"Debugging details\")\n",
    "logging.info(\"Program started\")\n",
    "logging.warning(\"This is a warning\")\n",
    "logging.error(\"An error occurred\")\n",
    "logging.critical(\"Critical issue!\")"
   ]
  },
  {
   "cell_type": "markdown",
   "id": "439ed303",
   "metadata": {},
   "source": [
    "18] What is the difference between os.fork() and multiprocessing in Python?  \n",
    "Ans] The difference between os.fork() and multiprocessing in Python lies in how processes are created, managed, and used, as well as in cross-platform compatibility.  \n",
    "\n",
    "os.fork()  \n",
    "What it does: Creates a child process by duplicating the current process.  \n",
    "Return value:  \n",
    "Returns 0 in the child process.  \n",
    "Returns the child PID in the parent process.  \n",
    "Memory: Child gets a copy of the parent’s memory (Copy-on-Write).  \n",
    "Platform: Only available on Unix/Linux systems, not on Windows.  "
   ]
  },
  {
   "cell_type": "markdown",
   "id": "ac85d519",
   "metadata": {},
   "source": [
    "multiprocessing Module  \n",
    "What it does: Provides a high-level API for creating and managing processes, including process pools, queues, and pipes.  \n",
    "Memory: Each process has its own memory space, so communication requires IPC mechanisms like Queue or Pipe.  \n",
    "Platform: Works on Unix/Linux and Windows.  "
   ]
  },
  {
   "cell_type": "markdown",
   "id": "8a7c5ccf",
   "metadata": {},
   "source": [
    "19] What is the importance of closing a file in Python?  \n",
    "Ans] Closing a file in Python is important to free system resources, prevent data loss, and ensure data integrity.  \n",
    "Releases System Resources  \n",
    "When a file is opened, Python allocates memory and file handles.  \n",
    "Not closing the file keeps these resources in use unnecessarily, which can slow down or crash the program if many files are open.  \n",
    "\n",
    "Ensures Data is Written  \n",
    "When writing to a file, Python may buffer data in memory before writing to disk.  \n",
    "Calling file.close() flushes the buffer, ensuring all data is actually saved.  \n",
    "\n",
    "Avoids File Locking Issues  \n",
    "On some systems, open files can be locked.  \n",
    "Closing the file allows other programs or processes to access it.  \n",
    "\n",
    "Better Practice with with Statement  \n",
    "Using with open(...) as file: automatically closes the file, even if an exception occurs.  "
   ]
  },
  {
   "cell_type": "markdown",
   "id": "08795981",
   "metadata": {},
   "source": [
    "20] What is the difference between file.read() and file.readline() in Python?  \n",
    "Ans] In Python, file.read() and file.readline() are both used to read data from a file, but they behave differently.  \n",
    "\n",
    "file.read()  \n",
    "Purpose: Reads the entire file (or a specified number of bytes) into a single string.  "
   ]
  },
  {
   "cell_type": "code",
   "execution_count": 7,
   "id": "85b5f521",
   "metadata": {},
   "outputs": [
    {
     "name": "stdout",
     "output_type": "stream",
     "text": [
      "1\n",
      "2\n",
      "3\n",
      "4\n",
      "5\n",
      "10\n",
      "20\n",
      "\n"
     ]
    }
   ],
   "source": [
    "file = open(\"numbers.txt\", \"r\")\n",
    "content = file.read()  # Reads the whole file\n",
    "print(content)\n",
    "file.close()"
   ]
  },
  {
   "cell_type": "markdown",
   "id": "56e0365d",
   "metadata": {},
   "source": [
    "file.readline()  \n",
    "Purpose: Reads one line at a time from the file."
   ]
  },
  {
   "cell_type": "code",
   "execution_count": 9,
   "id": "b4aedefa",
   "metadata": {},
   "outputs": [
    {
     "name": "stdout",
     "output_type": "stream",
     "text": [
      "Hi, this the first operation performed in the file\n"
     ]
    }
   ],
   "source": [
    "file = open(\"writing.txt\", \"r\")\n",
    "line = file.readline()  # Reads the first line\n",
    "print(line)\n",
    "file.close()"
   ]
  },
  {
   "cell_type": "markdown",
   "id": "5e85cc7d",
   "metadata": {},
   "source": [
    "21] What is the logging module in Python used for?\n",
    "Ans] The logging module in Python is used to record messages about the execution of a program. It provides a flexible framework for tracking events, errors, and informational messages without using print statements. \n",
    " \n",
    "Purpose of the logging module  \n",
    "Debugging: Helps developers track program flow and diagnose issues.  \n",
    "Monitoring: Records events in production systems for analysis.  \n",
    "Error Reporting: Captures exceptions and errors for troubleshooting.  \n",
    "Persistent Records: Logs can be saved to files, sent to servers, or output to the console.  \n",
    "Message Filtering: Supports different severity levels (DEBUG, INFO, WARNING, ERROR, CRITICAL) to control which messages are recorded.  "
   ]
  },
  {
   "cell_type": "markdown",
   "id": "41d8fd4e",
   "metadata": {},
   "source": [
    "22] What is the os module in Python used for in file handling?  \n",
    "Ans] In Python, the os module provides a way to interact with the operating system, and it is very useful for file handling and filesystem operations.  \n",
    "\n",
    "Purpose of os in File Handling\n",
    "- File and Directory Management  \n",
    "Create, remove, or rename files and directories.  \n",
    "- Path Manipulation  \n",
    "Handle file paths in a platform-independent way.  \n",
    "- Listing Files and Directories  \n",
    "Explore contents of directories.  \n",
    "- Check File or Directory Properties  \n",
    "Determine if a path exists, or if it is a file or directory.  \n",
    "- Environment Interaction  \n",
    "Access environment variables related to files or directories.  "
   ]
  },
  {
   "cell_type": "markdown",
   "id": "f7df7777",
   "metadata": {},
   "source": [
    "23] What are the challenges associated with memory management in Python?  \n",
    "Ans] Memory management in Python is mostly automatic, thanks to reference counting and the garbage collector, but there are still several challenges that developers may face.  \n",
    "- Circular References  \n",
    "Python uses reference counting, but circular references (objects referencing each other) prevent the reference count from dropping to zero.  \n",
    "While Python’s cyclic garbage collector can handle many cycles, complex or large cycles can still consume memory unnecessarily.  \n",
    "- Large Objects and Memory Usage  \n",
    "Creating large data structures (lists, dictionaries, etc.) can quickly consume memory.  \n",
    "Inefficient memory usage can slow down programs or cause them to crash on memory-constrained systems.  \n",
    "- Memory Leaks  \n",
    "Memory leaks occur if references to objects are unintentionally retained, preventing garbage collection.  \n",
    "Common causes:  \n",
    "Global variables that grow indefinitely  \n",
    "Caches or data structures not cleared  \n",
    "Unreleased resources (like files or sockets)  \n",
    "- Inefficient Object Storage  \n",
    "Python objects have extra overhead (type information, reference counts).  \n",
    "Creating millions of small objects can be memory-inefficient compared to low-level languages.  "
   ]
  },
  {
   "cell_type": "markdown",
   "id": "36da2e1e",
   "metadata": {},
   "source": [
    "24] How do you raise an exception manually in Python?  \n",
    "Ans] In Python, you can raise an exception manually using the raise statement. This is useful when you want to enforce certain conditions or signal errors explicitly in your code."
   ]
  },
  {
   "cell_type": "code",
   "execution_count": 13,
   "id": "c491a0ca",
   "metadata": {},
   "outputs": [
    {
     "ename": "ValueError",
     "evalue": "x must be non-negative",
     "output_type": "error",
     "traceback": [
      "\u001b[1;31m---------------------------------------------------------------------------\u001b[0m",
      "\u001b[1;31mValueError\u001b[0m                                Traceback (most recent call last)",
      "Cell \u001b[1;32mIn[13], line 3\u001b[0m\n\u001b[0;32m      1\u001b[0m x \u001b[38;5;241m=\u001b[39m \u001b[38;5;241m-\u001b[39m\u001b[38;5;241m5\u001b[39m\n\u001b[0;32m      2\u001b[0m \u001b[38;5;28;01mif\u001b[39;00m x \u001b[38;5;241m<\u001b[39m \u001b[38;5;241m0\u001b[39m:\n\u001b[1;32m----> 3\u001b[0m     \u001b[38;5;28;01mraise\u001b[39;00m \u001b[38;5;167;01mValueError\u001b[39;00m(\u001b[38;5;124m\"\u001b[39m\u001b[38;5;124mx must be non-negative\u001b[39m\u001b[38;5;124m\"\u001b[39m)\n",
      "\u001b[1;31mValueError\u001b[0m: x must be non-negative"
     ]
    }
   ],
   "source": [
    "x = -5\n",
    "if x < 0:\n",
    "    raise ValueError(\"x must be non-negative\")"
   ]
  },
  {
   "cell_type": "markdown",
   "id": "76c6e24a",
   "metadata": {},
   "source": [
    "25] Why is it important to use multithreading in certain applications?  \n",
    "Ans] Using multithreading in certain applications is important because it allows a program to perform multiple tasks concurrently, improving responsiveness, efficiency, and resource utilization.  \n",
    "- Improves Responsiveness  \n",
    "In applications with user interfaces (like GUI apps), multithreading allows the program to remain responsive while performing background tasks.  \n",
    "Example: Downloading a file in the background without freezing the UI.  \n",
    "\n",
    "- Efficient I/O Operations  \n",
    "Multithreading is especially useful for I/O-bound tasks, such as:  \n",
    "Reading/writing files  \n",
    "Network requests  \n",
    "Database operations  \n",
    "While one thread waits for I/O, another thread can continue execution, reducing idle time.  \n",
    "\n",
    "- Better CPU Utilization for I/O-bound Tasks  \n",
    "Even though Python’s Global Interpreter Lock (GIL) limits true parallel execution for CPU-bound tasks, threads can still overlap waiting periods, improving efficiency in I/O-bound applications.  \n",
    "\n",
    "- Real-time Applications  \n",
    "Multithreading allows programs to handle multiple tasks “simultaneously”, which is crucial for:  \n",
    "Real-time monitoring systems  \n",
    "Multimedia applications  \n",
    "Games  "
   ]
  },
  {
   "cell_type": "markdown",
   "id": "27322e87",
   "metadata": {},
   "source": [
    "Practical Questions:\n",
    "- "
   ]
  },
  {
   "cell_type": "markdown",
   "id": "51c6e5ef",
   "metadata": {},
   "source": [
    "1]  How can you open a file for writing in Python and write a string to it"
   ]
  },
  {
   "cell_type": "code",
   "execution_count": 2,
   "id": "23afe4d2",
   "metadata": {},
   "outputs": [],
   "source": [
    "file=open('writing.txt','w')\n",
    "file.write('Hi, this the first operation performed in the file')\n",
    "file.close()"
   ]
  },
  {
   "cell_type": "markdown",
   "id": "45f3246f",
   "metadata": {},
   "source": [
    "2] Write a Python program to read the contents of a file and print each line"
   ]
  },
  {
   "cell_type": "code",
   "execution_count": 4,
   "id": "b33b8834",
   "metadata": {},
   "outputs": [
    {
     "name": "stdout",
     "output_type": "stream",
     "text": [
      "Reading First Line\n",
      "Reading Second Line\n",
      "Reading Third Line\n",
      "Reading Fourth Line\n",
      "Reading Fifth Line\n"
     ]
    }
   ],
   "source": [
    "file=open('reading.txt','r')\n",
    "read = file.read()\n",
    "print(read)"
   ]
  },
  {
   "cell_type": "markdown",
   "id": "77134af7",
   "metadata": {},
   "source": [
    "3] How would you handle a case where the file doesn't exist while trying to open it for reading?"
   ]
  },
  {
   "cell_type": "code",
   "execution_count": 8,
   "id": "10e8cae9",
   "metadata": {},
   "outputs": [
    {
     "name": "stdout",
     "output_type": "stream",
     "text": [
      "[Errno 2] No such file or directory: 'a.txt'\n"
     ]
    }
   ],
   "source": [
    "\n",
    "\n",
    "try:\n",
    "    file = open('a.txt','r')\n",
    "    b = file.read()\n",
    "except FileNotFoundError as error:\n",
    "    print(f'{error}')"
   ]
  },
  {
   "cell_type": "markdown",
   "id": "13d76bcd",
   "metadata": {},
   "source": [
    "4] Write a Python script that reads from one file and writes its content to another file."
   ]
  },
  {
   "cell_type": "code",
   "execution_count": 10,
   "id": "d39aa4ae",
   "metadata": {},
   "outputs": [],
   "source": [
    "file = open('reading.txt','r')\n",
    "b= file.read()\n",
    "file1 = open('Writing1.txt','w')\n",
    "file1.write(b)\n",
    "file1.close()\n",
    "file.close()"
   ]
  },
  {
   "cell_type": "markdown",
   "id": "7ae5ed58",
   "metadata": {},
   "source": [
    "5] How would you catch and handle division by zero error in Python"
   ]
  },
  {
   "cell_type": "code",
   "execution_count": 13,
   "id": "da6c6071",
   "metadata": {},
   "outputs": [
    {
     "name": "stdout",
     "output_type": "stream",
     "text": [
      "division by zero is not possible\n"
     ]
    }
   ],
   "source": [
    "a=1\n",
    "b=0\n",
    "try:\n",
    "    c=a/b\n",
    "    print(c)\n",
    "except ZeroDivisionError as error:\n",
    "    print(f'{error} is not possible')"
   ]
  },
  {
   "cell_type": "markdown",
   "id": "b6c266db",
   "metadata": {},
   "source": [
    "6] Write a Python program that logs an error message to a log file when a division by zero exception occurs"
   ]
  },
  {
   "cell_type": "code",
   "execution_count": 1,
   "id": "1857caec",
   "metadata": {},
   "outputs": [
    {
     "name": "stdout",
     "output_type": "stream",
     "text": [
      "Error: Division by zero is not allowed.\n"
     ]
    }
   ],
   "source": [
    "import logging\n",
    "\n",
    "# Configure logging\n",
    "logging.basicConfig(filename=\"error.log\",\n",
    "                    level=logging.INFO,\n",
    "                    format=\"%(asctime)s - %(levelname)s - %(message)s\")\n",
    "\n",
    "try:\n",
    "    num1 = int(input(\"Enter numerator: \"))\n",
    "    num2 = int(input(\"Enter denominator: \"))\n",
    "    result = num1 / num2\n",
    "    print(f\"Result: {result}\")\n",
    "\n",
    "except ZeroDivisionError:\n",
    "    print(\"Error: Division by zero is not allowed.\")\n",
    "    logging.error(\"Division by zero attempted. Numerator: %d, Denominator: %d\", num1, num2)\n",
    "\n",
    "except ValueError:\n",
    "    print(\"Error: Invalid input! Please enter numbers only.\")\n"
   ]
  },
  {
   "cell_type": "markdown",
   "id": "ac609daf",
   "metadata": {},
   "source": [
    "7]How do you log information at different levels (INFO, ERROR, WARNING) in Python using the logging module"
   ]
  },
  {
   "cell_type": "code",
   "execution_count": 2,
   "id": "a9bafa09",
   "metadata": {},
   "outputs": [],
   "source": [
    "import logging\n",
    "\n",
    "logging.basicConfig(filename='error.log',level = logging.DEBUG,format=\"%(asctime)s - %(levelname)s - %(message)s\")\n",
    "logging.debug('Add comment to debug the code')\n",
    "logging.info('The info is')\n",
    "logging.warning(\"This is a WARNING message: something might be wrong.\")\n",
    "logging.error('Something is going wrong in the code')\n",
    "logging.critical('Shutting down the application')"
   ]
  },
  {
   "cell_type": "markdown",
   "id": "adfeb1ac",
   "metadata": {},
   "source": [
    "8]  Write a program to handle a file opening error using exception handling"
   ]
  },
  {
   "cell_type": "code",
   "execution_count": 18,
   "id": "144423ed",
   "metadata": {},
   "outputs": [
    {
     "name": "stdout",
     "output_type": "stream",
     "text": [
      "[Errno 2] No such file or directory: 'a.txt'\n"
     ]
    }
   ],
   "source": [
    "try:\n",
    "    a=open('a.txt','r')\n",
    "except FileNotFoundError as e:\n",
    "    print(e)\n",
    "except Exception as e:\n",
    "    print(e)\n"
   ]
  },
  {
   "cell_type": "markdown",
   "id": "b062c171",
   "metadata": {},
   "source": [
    "9]  How can you read a file line by line and store its content in a list in Python"
   ]
  },
  {
   "cell_type": "code",
   "execution_count": 20,
   "id": "81884660",
   "metadata": {},
   "outputs": [
    {
     "name": "stdout",
     "output_type": "stream",
     "text": [
      "['Reading First Line\\n', 'Reading Second Line\\n', 'Reading Third Line\\n', 'Reading Fourth Line\\n', 'Reading Fifth Line']\n"
     ]
    }
   ],
   "source": [
    "file = open('Writing1.txt','r')\n",
    "a = file.readlines()\n",
    "print(a)\n",
    "file.close()\n"
   ]
  },
  {
   "cell_type": "markdown",
   "id": "dc4334f0",
   "metadata": {},
   "source": [
    "10] How can you append data to an existing file in Python"
   ]
  },
  {
   "cell_type": "code",
   "execution_count": 22,
   "id": "a1134c59",
   "metadata": {},
   "outputs": [],
   "source": [
    "file = open('Writing1.txt','a')\n",
    "file.write('\\nHi what is the day today')\n",
    "file.close()\n",
    "\n"
   ]
  },
  {
   "cell_type": "markdown",
   "id": "116d34f1",
   "metadata": {},
   "source": [
    "11] Write a Python program that uses a try-except block to handle an error when attempting to access a\n",
    "dictionary key that doesn't exist"
   ]
  },
  {
   "cell_type": "code",
   "execution_count": 25,
   "id": "89cdf8e8",
   "metadata": {},
   "outputs": [
    {
     "name": "stdout",
     "output_type": "stream",
     "text": [
      "Key Error 'e'\n"
     ]
    }
   ],
   "source": [
    "try:\n",
    "    a = {'a':1,'b':2,'c':3}\n",
    "    a['e']\n",
    "except KeyError as e:\n",
    "    print(f'Key Error {e}')"
   ]
  },
  {
   "cell_type": "markdown",
   "id": "0054ab4f",
   "metadata": {},
   "source": [
    "12] Write a program that demonstrates using multiple except blocks to handle different types of exceptions"
   ]
  },
  {
   "cell_type": "code",
   "execution_count": null,
   "id": "8e58e358",
   "metadata": {},
   "outputs": [
    {
     "name": "stdout",
     "output_type": "stream",
     "text": [
      "Error: Division by zero is not allowed.\n",
      "Program continues after exception handling.\n"
     ]
    }
   ],
   "source": [
    "try:\n",
    "    num1 = int(input(\"Enter the first number: \"))\n",
    "    num2 = int(input(\"Enter the second number: \"))\n",
    "    \n",
    "    result = num1 / num2\n",
    "    print(f\"Result: {result}\")\n",
    "\n",
    "    my_list = [1, 2, 3]\n",
    "    index = int(input(\"Enter an index to access from the list: \"))\n",
    "    print(f\"Value at index {index}: {my_list[index]}\")\n",
    "\n",
    "except ValueError:\n",
    "    print(\"Error: Invalid input! Please enter numbers only.\")\n",
    "\n",
    "except ZeroDivisionError:\n",
    "    print(\"Error: Division by zero is not allowed.\")\n",
    "\n",
    "except IndexError:\n",
    "    print(\"Error: Index out of range! Please enter a valid index.\")\n",
    "\n",
    "except Exception as e:\n",
    "    print(f\"Unexpected error: {e}\")\n",
    "\n",
    "print(\"Program continues after exception handling.\")"
   ]
  },
  {
   "cell_type": "markdown",
   "id": "89aa5ac5",
   "metadata": {},
   "source": [
    "13]  How would you check if a file exists before attempting to read it in Python"
   ]
  },
  {
   "cell_type": "code",
   "execution_count": 5,
   "id": "623d7229",
   "metadata": {},
   "outputs": [
    {
     "name": "stdout",
     "output_type": "stream",
     "text": [
      "File read successfully.\n"
     ]
    }
   ],
   "source": [
    "import os\n",
    "\n",
    "file_path = \"empty.txt\"\n",
    "\n",
    "if os.path.exists(file_path):\n",
    "    with open(file_path, \"r\") as f:\n",
    "        content = f.read()\n",
    "    print(\"File read successfully.\")\n",
    "else:\n",
    "    print(\"File does not exist.\")"
   ]
  },
  {
   "cell_type": "code",
   "execution_count": 6,
   "id": "79fb9fb9",
   "metadata": {},
   "outputs": [
    {
     "name": "stdout",
     "output_type": "stream",
     "text": [
      "File does not exist.\n"
     ]
    }
   ],
   "source": [
    "import os\n",
    "\n",
    "file_path = \"empt.txt\"\n",
    "\n",
    "if os.path.exists(file_path):\n",
    "    with open(file_path, \"r\") as f:\n",
    "        content = f.read()\n",
    "    print(\"File read successfully.\")\n",
    "else:\n",
    "    print(\"File does not exist.\")"
   ]
  },
  {
   "cell_type": "markdown",
   "id": "9004c9ca",
   "metadata": {},
   "source": [
    "14] Write a program that uses the logging module to log both informational and error messages"
   ]
  },
  {
   "cell_type": "code",
   "execution_count": 9,
   "id": "9451f69e",
   "metadata": {},
   "outputs": [],
   "source": [
    "import logging\n",
    "\n",
    "logging.basicConfig(filename='error.log',level = logging.DEBUG,format=\"%(asctime)s - %(levelname)s - %(message)s\")\n",
    "logging.info('This is the info message')\n",
    "logging.error('This is the error message')"
   ]
  },
  {
   "cell_type": "markdown",
   "id": "e489b133",
   "metadata": {},
   "source": [
    "15] Write a Python program that prints the content of a file and handles the case when the file is empty"
   ]
  },
  {
   "cell_type": "code",
   "execution_count": null,
   "id": "e6a484d0",
   "metadata": {},
   "outputs": [
    {
     "name": "stdout",
     "output_type": "stream",
     "text": [
      "\n"
     ]
    }
   ],
   "source": [
    "try:\n",
    "    filename = input(\"Enter the file name: \")\n",
    "\n",
    "    with open(filename, \"r\") as file:\n",
    "        content = file.read()\n",
    "\n",
    "        if not content.strip():  # Checks if file is empty or contains only spaces/newlines\n",
    "            print(\"The file is empty.\")\n",
    "        else:\n",
    "            print(\"File Content:\")\n",
    "            print(content)\n",
    "\n",
    "except FileNotFoundError:\n",
    "    print(\"Error: File not found. Please check the filename.\")\n",
    "\n",
    "except PermissionError:\n",
    "    print(\"Error: You don't have permission to read this file.\")\n",
    "\n",
    "except Exception as e:\n",
    "    print(f\"An unexpected error occurred: {e}\")"
   ]
  },
  {
   "cell_type": "markdown",
   "id": "17a9d3e8",
   "metadata": {},
   "source": [
    "16] Demonstrate how to use memory profiling to check the memory usage of a small program"
   ]
  },
  {
   "cell_type": "code",
   "execution_count": 18,
   "id": "dbf53023",
   "metadata": {},
   "outputs": [
    {
     "name": "stdout",
     "output_type": "stream",
     "text": [
      "ERROR: Could not find file C:\\Users\\COMP\\AppData\\Local\\Temp\\ipykernel_17000\\3619365951.py\n",
      "333332833333500000\n"
     ]
    }
   ],
   "source": [
    "from memory_profiler import profile\n",
    "\n",
    "@profile\n",
    "def create_list():\n",
    "    # Create a list of squares of numbers from 1 to 1 million\n",
    "    squares = [i**2 for i in range(1_000_000)]\n",
    "    return squares\n",
    "\n",
    "if __name__ == \"__main__\":\n",
    "    a = create_list()\n",
    "    b=0\n",
    "    for i in a:\n",
    "        b=b+i\n",
    "    print(b)\n",
    "\n",
    "\n"
   ]
  },
  {
   "cell_type": "markdown",
   "id": "a8d0f9ca",
   "metadata": {},
   "source": [
    "17] Write a Python program to create and write a list of numbers to a file, one number per line"
   ]
  },
  {
   "cell_type": "code",
   "execution_count": 29,
   "id": "a78b6b15",
   "metadata": {},
   "outputs": [
    {
     "name": "stdout",
     "output_type": "stream",
     "text": [
      "Numbers have been written to numbers.txt\n"
     ]
    }
   ],
   "source": [
    "numbers = [1, 2, 3, 4, 5, 10, 20]\n",
    "\n",
    "# Open file in write mode\n",
    "with open(\"numbers.txt\", \"w\") as file:\n",
    "    for num in numbers:\n",
    "        file.write(f\"{num}\\n\")\n",
    "\n",
    "print(\"Numbers have been written to numbers.txt\")"
   ]
  },
  {
   "cell_type": "markdown",
   "id": "e21ef893",
   "metadata": {},
   "source": [
    "18] How would you implement a basic logging setup that logs to a file with rotation after 1MB"
   ]
  },
  {
   "cell_type": "code",
   "execution_count": 28,
   "id": "a76fb33a",
   "metadata": {},
   "outputs": [],
   "source": [
    "import logging\n",
    "from logging.handlers import RotatingFileHandler\n",
    "\n",
    "# Create a logger\n",
    "logger = logging.getLogger(\"MyLogger\")\n",
    "logger.setLevel(logging.INFO)\n",
    "\n",
    "# Create a RotatingFileHandler (file rotation after 1 MB, keep 3 backups)\n",
    "handler = RotatingFileHandler(\"app.log\", maxBytes=1_000_000, backupCount=3)\n",
    "handler.setLevel(logging.INFO)\n",
    "\n",
    "# Define log format\n",
    "formatter = logging.Formatter(\"%(asctime)s - %(levelname)s - %(message)s\")\n",
    "handler.setFormatter(formatter)\n",
    "\n",
    "# Add handler to logger\n",
    "logger.addHandler(handler)\n",
    "\n",
    "# Example logs\n",
    "for i in range(10000):\n",
    "    logger.info(f\"This is log message number {i}\")"
   ]
  },
  {
   "cell_type": "markdown",
   "id": "dd8af24c",
   "metadata": {},
   "source": [
    "19] Write a program that handles both IndexError and KeyError using a try-except block"
   ]
  },
  {
   "cell_type": "code",
   "execution_count": 27,
   "id": "3f6de1ad",
   "metadata": {},
   "outputs": [
    {
     "name": "stdout",
     "output_type": "stream",
     "text": [
      "Key not found 'city'\n"
     ]
    }
   ],
   "source": [
    "my_list = [10, 20, 30]\n",
    "my_dict = {\"name\": \"Alice\", \"age\": 25}\n",
    "try:\n",
    "   print(\"City:\", my_dict[\"city\"])\n",
    "   print(\"List item:\", my_list[5])\n",
    "\n",
    "    \n",
    "except KeyError as e:\n",
    "    print(f'Key not found {e}')\n",
    "except IndexError as e:\n",
    "    print(f'Index out of bound {e}')\n",
    "\n"
   ]
  },
  {
   "cell_type": "markdown",
   "id": "91ee77dd",
   "metadata": {},
   "source": [
    "20] How would you open a file and read its contents using a context manager in Python"
   ]
  },
  {
   "cell_type": "code",
   "execution_count": 17,
   "id": "c9a3dd79",
   "metadata": {},
   "outputs": [
    {
     "name": "stdout",
     "output_type": "stream",
     "text": [
      "2025-08-13 08:11:30,616 - ERROR - Division by zero attempted. Numerator: 2, Denominator: 0\n",
      "2025-08-13 08:15:46,082 - INFO - The info is\n",
      "2025-08-13 08:15:46,083 - ERROR - Something is going wrong in the code\n",
      "2025-08-13 08:15:46,083 - CRITICAL - Shutting down the application\n",
      "2025-08-13 08:16:05,861 - INFO - The info is\n",
      "2025-08-13 08:16:05,862 - ERROR - Something is going wrong in the code\n",
      "2025-08-13 08:16:05,863 - CRITICAL - Shutting down the application\n",
      "2025-08-13 08:16:36,922 - INFO - The info is\n",
      "2025-08-13 08:16:36,922 - ERROR - Something is going wrong in the code\n",
      "2025-08-13 08:16:36,923 - CRITICAL - Shutting down the application\n",
      "2025-08-13 08:17:34,345 - DEBUG - Add comment to debug the code\n",
      "2025-08-13 08:17:34,346 - INFO - The info is\n",
      "2025-08-13 08:17:34,633 - ERROR - Something is going wrong in the code\n",
      "2025-08-13 08:17:34,634 - CRITICAL - Shutting down the application\n",
      "2025-08-13 08:18:16,236 - DEBUG - Add comment to debug the code\n",
      "2025-08-13 08:18:16,236 - INFO - The info is\n",
      "2025-08-13 08:18:16,237 - WARNING - This is a WARNING message: something might be wrong.\n",
      "2025-08-13 08:18:16,238 - ERROR - Something is going wrong in the code\n",
      "2025-08-13 08:18:16,238 - CRITICAL - Shutting down the application\n",
      "2025-08-14 07:07:05,567 - INFO - This is the info message\n",
      "2025-08-14 07:07:05,597 - ERROR - This is the error message\n",
      "2025-08-14 07:12:29,944 - ERROR - Please enter a non zero number in the denominator 0\n",
      "2025-08-14 07:15:05,379 - ERROR - Unexpected error: invalid literal for int() with base 10: 'abc'\n",
      "\n"
     ]
    }
   ],
   "source": [
    "with open('error.log') as file:\n",
    "    a= file.read()\n",
    "    print(a)"
   ]
  },
  {
   "cell_type": "markdown",
   "id": "12ab5856",
   "metadata": {},
   "source": [
    "21] Write a Python program that reads a file and prints the number of occurrences of a specific word"
   ]
  },
  {
   "cell_type": "code",
   "execution_count": 3,
   "id": "0b3954d5",
   "metadata": {},
   "outputs": [
    {
     "name": "stdout",
     "output_type": "stream",
     "text": [
      "7\n"
     ]
    }
   ],
   "source": [
    "with open('specific.txt','r') as file:\n",
    "    a=file.read()\n",
    "    count=0\n",
    "    for i in a:\n",
    "        if(i=='u' or i=='U'):\n",
    "            count +=1\n",
    "    print(count)"
   ]
  },
  {
   "cell_type": "markdown",
   "id": "2bc80584",
   "metadata": {},
   "source": [
    "22] How can you check if a file is empty before attempting to read its contents"
   ]
  },
  {
   "cell_type": "code",
   "execution_count": 16,
   "id": "d752a1b4",
   "metadata": {},
   "outputs": [
    {
     "name": "stdout",
     "output_type": "stream",
     "text": [
      "File present with 0 bytes\n"
     ]
    }
   ],
   "source": [
    "import os\n",
    "\n",
    "file_path = \"empty.txt\"\n",
    "\n",
    "if os.path.exists(file_path): \n",
    "    size = os.path.getsize(file_path)  \n",
    "    if(size>0):\n",
    "        with open(file_path,'r') as file:\n",
    "            a = file.read()\n",
    "            print(a)\n",
    "            print(f\"File size: {size} bytes\")\n",
    "    else:\n",
    "        print('File present with 0 bytes')\n",
    "else:\n",
    "    print(\"File does not exist.\")\n"
   ]
  },
  {
   "cell_type": "markdown",
   "id": "5b04d534",
   "metadata": {},
   "source": [
    "23] Write a Python program that writes to a log file when an error occurs during file handling"
   ]
  },
  {
   "cell_type": "code",
   "execution_count": 12,
   "id": "9071f970",
   "metadata": {},
   "outputs": [],
   "source": [
    "import logging\n",
    "logging.basicConfig(filename='error.log',level=logging.ERROR,format=\"%(asctime)s - %(levelname)s - %(message)s\")\n",
    "try:\n",
    "    a=int(input())\n",
    "    b=int(input())\n",
    "    c=a/b\n",
    "except ZeroDivisionError  as e:\n",
    "    logging.error(f'Please enter a non zero number in the denominator {e}')\n",
    "except Exception  as e:\n",
    "    logging.error(f'Unexpected error: {e}')"
   ]
  }
 ],
 "metadata": {
  "kernelspec": {
   "display_name": "Python 3",
   "language": "python",
   "name": "python3"
  },
  "language_info": {
   "codemirror_mode": {
    "name": "ipython",
    "version": 3
   },
   "file_extension": ".py",
   "mimetype": "text/x-python",
   "name": "python",
   "nbconvert_exporter": "python",
   "pygments_lexer": "ipython3",
   "version": "3.10.0"
  }
 },
 "nbformat": 4,
 "nbformat_minor": 5
}
